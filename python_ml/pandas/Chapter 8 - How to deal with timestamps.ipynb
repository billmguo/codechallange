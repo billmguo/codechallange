{
 "cells": [
  {
   "cell_type": "code",
   "execution_count": 1,
   "metadata": {},
   "outputs": [],
   "source": [
    "import pandas as pd"
   ]
  },
  {
   "cell_type": "markdown",
   "metadata": {},
   "source": [
    "# 8.1 Parsing Unix timestamps"
   ]
  },
  {
   "cell_type": "markdown",
   "metadata": {},
   "source": [
    "It's not obvious how to deal with Unix timestamps in pandas -- it took me quite a while to figure this out. The file we're using here is a popularity-contest file I found on my system at `/var/log/popularity-contest`.\n",
    "\n",
    "Here's an [explanation of how this file works](http://popcon.ubuntu.com/README).\n",
    "\n",
    "I'm going to hope that nothing in it is sensitive :)"
   ]
  },
  {
   "cell_type": "code",
   "execution_count": 2,
   "metadata": {},
   "outputs": [],
   "source": [
    "# Read it, and remove the last row\n",
    "popcon = pd.read_csv('../data/popularity-contest', sep=' ', )[:-1]\n",
    "popcon.columns = ['atime', 'ctime', 'package-name', 'mru-program', 'tag']"
   ]
  },
  {
   "cell_type": "markdown",
   "metadata": {},
   "source": [
    "The colums are the access time, created time, package name, recently used program, and a tag"
   ]
  },
  {
   "cell_type": "code",
   "execution_count": 3,
   "metadata": {},
   "outputs": [
    {
     "data": {
      "text/html": [
       "<div>\n",
       "<style>\n",
       "    .dataframe thead tr:only-child th {\n",
       "        text-align: right;\n",
       "    }\n",
       "\n",
       "    .dataframe thead th {\n",
       "        text-align: left;\n",
       "    }\n",
       "\n",
       "    .dataframe tbody tr th {\n",
       "        vertical-align: top;\n",
       "    }\n",
       "</style>\n",
       "<table border=\"1\" class=\"dataframe\">\n",
       "  <thead>\n",
       "    <tr style=\"text-align: right;\">\n",
       "      <th></th>\n",
       "      <th>atime</th>\n",
       "      <th>ctime</th>\n",
       "      <th>package-name</th>\n",
       "      <th>mru-program</th>\n",
       "      <th>tag</th>\n",
       "    </tr>\n",
       "  </thead>\n",
       "  <tbody>\n",
       "    <tr>\n",
       "      <th>0</th>\n",
       "      <td>1387295797</td>\n",
       "      <td>1367633260</td>\n",
       "      <td>perl-base</td>\n",
       "      <td>/usr/bin/perl</td>\n",
       "      <td>NaN</td>\n",
       "    </tr>\n",
       "    <tr>\n",
       "      <th>1</th>\n",
       "      <td>1387295796</td>\n",
       "      <td>1354370480</td>\n",
       "      <td>login</td>\n",
       "      <td>/bin/su</td>\n",
       "      <td>NaN</td>\n",
       "    </tr>\n",
       "    <tr>\n",
       "      <th>2</th>\n",
       "      <td>1387295743</td>\n",
       "      <td>1354341275</td>\n",
       "      <td>libtalloc2</td>\n",
       "      <td>/usr/lib/x86_64-linux-gnu/libtalloc.so.2.0.7</td>\n",
       "      <td>NaN</td>\n",
       "    </tr>\n",
       "    <tr>\n",
       "      <th>3</th>\n",
       "      <td>1387295743</td>\n",
       "      <td>1387224204</td>\n",
       "      <td>libwbclient0</td>\n",
       "      <td>/usr/lib/x86_64-linux-gnu/libwbclient.so.0</td>\n",
       "      <td>&lt;RECENT-CTIME&gt;</td>\n",
       "    </tr>\n",
       "    <tr>\n",
       "      <th>4</th>\n",
       "      <td>1387295742</td>\n",
       "      <td>1354341253</td>\n",
       "      <td>libselinux1</td>\n",
       "      <td>/lib/x86_64-linux-gnu/libselinux.so.1</td>\n",
       "      <td>NaN</td>\n",
       "    </tr>\n",
       "  </tbody>\n",
       "</table>\n",
       "</div>"
      ],
      "text/plain": [
       "        atime       ctime  package-name  \\\n",
       "0  1387295797  1367633260     perl-base   \n",
       "1  1387295796  1354370480         login   \n",
       "2  1387295743  1354341275    libtalloc2   \n",
       "3  1387295743  1387224204  libwbclient0   \n",
       "4  1387295742  1354341253   libselinux1   \n",
       "\n",
       "                                    mru-program             tag  \n",
       "0                                 /usr/bin/perl             NaN  \n",
       "1                                       /bin/su             NaN  \n",
       "2  /usr/lib/x86_64-linux-gnu/libtalloc.so.2.0.7             NaN  \n",
       "3    /usr/lib/x86_64-linux-gnu/libwbclient.so.0  <RECENT-CTIME>  \n",
       "4         /lib/x86_64-linux-gnu/libselinux.so.1             NaN  "
      ]
     },
     "execution_count": 3,
     "metadata": {},
     "output_type": "execute_result"
    }
   ],
   "source": [
    "popcon[:5]"
   ]
  },
  {
   "cell_type": "markdown",
   "metadata": {},
   "source": [
    "The magical part about parsing timestamps in pandas is that numpy datetimes are already stored as Unix timestamps. So all we need to do is tell pandas that these integers are actually datetimes -- it doesn't need to do any conversion at all.\n",
    "\n",
    "We need to convert these to ints to start:"
   ]
  },
  {
   "cell_type": "code",
   "execution_count": 4,
   "metadata": {},
   "outputs": [],
   "source": [
    "popcon['atime'] = popcon['atime'].astype(int)\n",
    "popcon['ctime'] = popcon['ctime'].astype(int)"
   ]
  },
  {
   "cell_type": "markdown",
   "metadata": {},
   "source": [
    "Every numpy array and pandas series has a dtype -- this is usually `int64`, `float64`, or `object`. Some of the time types available are `datetime64[s]`, `datetime64[ms]`, and `datetime64[us]`. There are also `timedelta` types, similarly.\n",
    "\n",
    "We can use the `pd.to_datetime` function to convert our integer timestamps into datetimes. This is a constant-time operation -- we're not actually changing any of the data, just how pandas thinks about it."
   ]
  },
  {
   "cell_type": "code",
   "execution_count": 5,
   "metadata": {},
   "outputs": [],
   "source": [
    "\n",
    "popcon['atime'] = pd.to_datetime(popcon['atime'], unit='s')\n",
    "popcon['ctime'] = pd.to_datetime(popcon['ctime'], unit='s')"
   ]
  },
  {
   "cell_type": "markdown",
   "metadata": {},
   "source": [
    "If we look at the dtype now, it's `<M8[ns]`. As far as I can tell `M8` is secret code for `datetime64`."
   ]
  },
  {
   "cell_type": "code",
   "execution_count": 6,
   "metadata": {},
   "outputs": [
    {
     "data": {
      "text/plain": [
       "dtype('<M8[ns]')"
      ]
     },
     "execution_count": 6,
     "metadata": {},
     "output_type": "execute_result"
    }
   ],
   "source": [
    "popcon['atime'].dtype"
   ]
  },
  {
   "cell_type": "markdown",
   "metadata": {},
   "source": [
    "So now we can look at our `atime` and `ctime` as dates!"
   ]
  },
  {
   "cell_type": "code",
   "execution_count": 7,
   "metadata": {},
   "outputs": [
    {
     "data": {
      "text/html": [
       "<div>\n",
       "<style>\n",
       "    .dataframe thead tr:only-child th {\n",
       "        text-align: right;\n",
       "    }\n",
       "\n",
       "    .dataframe thead th {\n",
       "        text-align: left;\n",
       "    }\n",
       "\n",
       "    .dataframe tbody tr th {\n",
       "        vertical-align: top;\n",
       "    }\n",
       "</style>\n",
       "<table border=\"1\" class=\"dataframe\">\n",
       "  <thead>\n",
       "    <tr style=\"text-align: right;\">\n",
       "      <th></th>\n",
       "      <th>atime</th>\n",
       "      <th>ctime</th>\n",
       "      <th>package-name</th>\n",
       "      <th>mru-program</th>\n",
       "      <th>tag</th>\n",
       "    </tr>\n",
       "  </thead>\n",
       "  <tbody>\n",
       "    <tr>\n",
       "      <th>0</th>\n",
       "      <td>2013-12-17 15:56:37</td>\n",
       "      <td>2013-05-04 02:07:40</td>\n",
       "      <td>perl-base</td>\n",
       "      <td>/usr/bin/perl</td>\n",
       "      <td>NaN</td>\n",
       "    </tr>\n",
       "    <tr>\n",
       "      <th>1</th>\n",
       "      <td>2013-12-17 15:56:36</td>\n",
       "      <td>2012-12-01 14:01:20</td>\n",
       "      <td>login</td>\n",
       "      <td>/bin/su</td>\n",
       "      <td>NaN</td>\n",
       "    </tr>\n",
       "    <tr>\n",
       "      <th>2</th>\n",
       "      <td>2013-12-17 15:55:43</td>\n",
       "      <td>2012-12-01 05:54:35</td>\n",
       "      <td>libtalloc2</td>\n",
       "      <td>/usr/lib/x86_64-linux-gnu/libtalloc.so.2.0.7</td>\n",
       "      <td>NaN</td>\n",
       "    </tr>\n",
       "    <tr>\n",
       "      <th>3</th>\n",
       "      <td>2013-12-17 15:55:43</td>\n",
       "      <td>2013-12-16 20:03:24</td>\n",
       "      <td>libwbclient0</td>\n",
       "      <td>/usr/lib/x86_64-linux-gnu/libwbclient.so.0</td>\n",
       "      <td>&lt;RECENT-CTIME&gt;</td>\n",
       "    </tr>\n",
       "    <tr>\n",
       "      <th>4</th>\n",
       "      <td>2013-12-17 15:55:42</td>\n",
       "      <td>2012-12-01 05:54:13</td>\n",
       "      <td>libselinux1</td>\n",
       "      <td>/lib/x86_64-linux-gnu/libselinux.so.1</td>\n",
       "      <td>NaN</td>\n",
       "    </tr>\n",
       "  </tbody>\n",
       "</table>\n",
       "</div>"
      ],
      "text/plain": [
       "                atime               ctime  package-name  \\\n",
       "0 2013-12-17 15:56:37 2013-05-04 02:07:40     perl-base   \n",
       "1 2013-12-17 15:56:36 2012-12-01 14:01:20         login   \n",
       "2 2013-12-17 15:55:43 2012-12-01 05:54:35    libtalloc2   \n",
       "3 2013-12-17 15:55:43 2013-12-16 20:03:24  libwbclient0   \n",
       "4 2013-12-17 15:55:42 2012-12-01 05:54:13   libselinux1   \n",
       "\n",
       "                                    mru-program             tag  \n",
       "0                                 /usr/bin/perl             NaN  \n",
       "1                                       /bin/su             NaN  \n",
       "2  /usr/lib/x86_64-linux-gnu/libtalloc.so.2.0.7             NaN  \n",
       "3    /usr/lib/x86_64-linux-gnu/libwbclient.so.0  <RECENT-CTIME>  \n",
       "4         /lib/x86_64-linux-gnu/libselinux.so.1             NaN  "
      ]
     },
     "execution_count": 7,
     "metadata": {},
     "output_type": "execute_result"
    }
   ],
   "source": [
    "popcon[:5]"
   ]
  },
  {
   "cell_type": "markdown",
   "metadata": {},
   "source": [
    "Now suppose we want to look at all packages that aren't libraries.\n",
    "\n",
    "First, I want to get rid of everything with timestamp 0. Notice how we can just use a string in this comparison, even though it's actually a timestamp on the inside? That is because pandas is amazing."
   ]
  },
  {
   "cell_type": "code",
   "execution_count": 8,
   "metadata": {},
   "outputs": [],
   "source": [
    "popcon = popcon[popcon['atime'] > '1970-01-01']"
   ]
  },
  {
   "cell_type": "markdown",
   "metadata": {},
   "source": [
    "Now we can use pandas' magical string abilities to just look at rows where the package name doesn't contain 'lib'."
   ]
  },
  {
   "cell_type": "code",
   "execution_count": 13,
   "metadata": {},
   "outputs": [
    {
     "name": "stdout",
     "output_type": "stream",
     "text": [
      "                   atime               ctime                 package-name  \\\n",
      "0    2013-12-17 15:56:37 2013-05-04 02:07:40                    perl-base   \n",
      "1    2013-12-17 15:56:36 2012-12-01 14:01:20                        login   \n",
      "17   2013-12-17 15:55:33 2013-11-25 16:25:38              fingerprint-gui   \n",
      "18   2013-12-17 15:55:32 2012-12-01 05:53:57                         dash   \n",
      "19   2013-12-17 15:55:29 2012-12-01 05:54:37           popularity-contest   \n",
      "20   2013-12-17 15:53:05 2012-12-01 05:54:16                      mlocate   \n",
      "21   2013-12-17 15:53:05 2013-11-25 16:00:20                         dpkg   \n",
      "22   2013-12-17 15:53:05 2012-12-01 14:01:16                    coreutils   \n",
      "23   2013-12-17 15:53:05 2012-12-01 05:54:15                   util-linux   \n",
      "24   2013-12-17 15:52:54 2013-02-09 18:35:43                      upstart   \n",
      "25   2013-12-17 15:52:54 2013-06-12 00:23:26                         cups   \n",
      "26   2013-12-17 15:52:53 2012-12-01 05:54:16                    findutils   \n",
      "27   2013-12-17 15:52:53 2012-12-01 05:54:37                    logrotate   \n",
      "28   2013-12-17 15:52:49 2012-12-01 05:54:13                    diffutils   \n",
      "29   2013-12-17 15:52:49 2013-12-10 16:22:37                          apt   \n",
      "30   2013-12-17 15:52:49 2012-12-01 05:54:15                  debianutils   \n",
      "31   2013-12-17 05:11:46 2012-12-01 05:54:09                         crda   \n",
      "32   2013-12-17 05:11:46 2012-12-01 05:54:09               wireless-regdb   \n",
      "54   2013-12-17 04:55:44 2012-12-01 05:54:14                 install-info   \n",
      "55   2013-12-17 04:55:42 2013-02-09 18:49:39                       man-db   \n",
      "56   2013-12-17 04:55:42 2012-12-01 05:54:57                      debconf   \n",
      "57   2013-12-17 04:55:39 2013-12-17 04:55:42                          ddd   \n",
      "58   2013-12-17 04:55:39 2012-12-01 05:53:59                          tar   \n",
      "61   2013-12-17 04:55:38 2013-05-04 02:07:37                         perl   \n",
      "64   2013-12-17 04:55:38 2012-12-01 05:53:57                         gzip   \n",
      "66   2013-12-17 04:55:38 2013-12-10 16:24:47                    apt-utils   \n",
      "68   2013-12-17 04:47:50 2012-12-01 05:54:16                   groff-base   \n",
      "72   2013-12-17 04:44:40 2012-12-01 05:54:58             python-gobject-2   \n",
      "73   2013-12-17 04:44:40 2012-12-01 15:41:24            virtualenvwrapper   \n",
      "74   2013-12-17 04:44:40 2013-11-25 16:19:55    python-lazr.restfulclient   \n",
      "...                  ...                 ...                          ...   \n",
      "2056 2012-01-18 06:12:07 2012-12-01 05:54:36  xserver-xorg-video-neomagic   \n",
      "2057 2012-01-18 06:03:27 2012-12-01 05:54:36      xserver-xorg-video-r128   \n",
      "2058 2012-01-18 05:19:45 2012-12-01 05:54:36       xserver-xorg-video-mga   \n",
      "2059 2012-01-18 05:17:19 2012-12-01 05:54:36    xserver-xorg-video-mach64   \n",
      "2060 2012-01-18 05:13:07 2012-12-01 05:54:36    xserver-xorg-video-cirrus   \n",
      "2061 2012-01-18 03:54:18 2012-12-01 05:54:37     xserver-xorg-input-mouse   \n",
      "2062 2012-01-08 11:39:26 2012-12-01 05:54:13                       espeak   \n",
      "2063 2012-01-03 15:42:49 2012-12-01 05:54:13                           iw   \n",
      "2064 2011-12-31 03:01:58 2012-12-01 05:54:28               python-virtkey   \n",
      "2065 2011-12-31 02:58:00 2012-12-01 05:54:28       python-reportlab-accel   \n",
      "2066 2011-12-31 02:57:59 2012-12-01 05:54:28              python-renderpm   \n",
      "2067 2011-12-29 10:21:09 2012-12-01 05:54:15                         lshw   \n",
      "2068 2011-12-28 05:43:33 2012-12-01 05:54:22                  ibus-pinyin   \n",
      "2069 2011-12-25 03:26:53 2012-12-01 05:54:16                      toshset   \n",
      "2070 2011-12-18 23:46:08 2012-12-01 05:54:20         printer-driver-c2esp   \n",
      "2071 2011-12-17 15:48:53 2012-12-01 05:54:37                avahi-autoipd   \n",
      "2073 2011-12-13 17:11:10 2012-12-01 05:54:37                    pppconfig   \n",
      "2074 2011-12-12 13:47:15 2012-12-01 05:54:37                  base-passwd   \n",
      "2076 2011-12-05 16:01:44 2012-12-01 05:54:15                       ltrace   \n",
      "2078 2011-11-27 10:00:49 2012-12-01 05:54:27                   memtest86+   \n",
      "2079 2011-11-08 10:47:49 2012-12-01 05:54:37                    dmidecode   \n",
      "2085 2011-08-16 11:10:34 2012-12-01 05:54:37        grub-gfxpayload-lists   \n",
      "2086 2011-08-12 20:06:55 2012-12-01 05:54:37                         tcpd   \n",
      "2087 2011-07-28 20:05:14 2012-12-01 05:54:15                     mtr-tiny   \n",
      "2088 2011-07-03 11:22:03 2012-12-01 05:54:37                    pppoeconf   \n",
      "2089 2011-04-30 20:36:36 2012-12-01 05:54:17                x11-xfs-utils   \n",
      "2090 2011-04-30 15:07:31 2012-12-01 05:54:15                 dvd+rw-tools   \n",
      "2092 2010-12-12 02:51:56 2012-12-01 05:54:37                      vbetool   \n",
      "2093 2010-10-15 16:41:50 2012-12-01 05:54:37                   pptp-linux   \n",
      "2095 2010-03-06 14:44:18 2012-12-01 05:54:37                laptop-detect   \n",
      "\n",
      "                                            mru-program             tag  \n",
      "0                                         /usr/bin/perl             NaN  \n",
      "1                                               /bin/su             NaN  \n",
      "17                 /lib/security/pam_fingerprint-gui.so             NaN  \n",
      "18                                            /bin/dash             NaN  \n",
      "19                         /usr/sbin/popularity-contest             NaN  \n",
      "20                            /usr/bin/updatedb.mlocate             NaN  \n",
      "21                          /usr/sbin/dpkg-statoverride             NaN  \n",
      "22                                            /bin/true             NaN  \n",
      "23                                      /usr/bin/ionice             NaN  \n",
      "24                                /lib/init/upstart-job             NaN  \n",
      "25                          /usr/lib/cups/notifier/dbus             NaN  \n",
      "26                                       /usr/bin/xargs             NaN  \n",
      "27                                  /usr/sbin/logrotate             NaN  \n",
      "28                                         /usr/bin/cmp             NaN  \n",
      "29                                  /usr/bin/apt-config             NaN  \n",
      "30                                     /usr/bin/savelog             NaN  \n",
      "31        /lib/crda/pubkeys/benh@debian.org.key.pub.pem             NaN  \n",
      "32                             /lib/crda/regulatory.bin             NaN  \n",
      "54                               /usr/bin/ginstall-info             NaN  \n",
      "55                                /usr/lib/man-db/mandb             NaN  \n",
      "56                  /usr/share/perl5/Debconf/Element.pm             NaN  \n",
      "57                                         /usr/bin/ddd  <RECENT-CTIME>  \n",
      "58                                             /bin/tar             NaN  \n",
      "61                /usr/lib/perl/5.14.2/Encode/Config.pm             NaN  \n",
      "64                                            /bin/gzip             NaN  \n",
      "66                        /usr/bin/apt-extracttemplates             NaN  \n",
      "68                                        /usr/bin/gtbl             NaN  \n",
      "72    /usr/lib/python2.7/dist-packages/gtk-2.0-pysup...             NaN  \n",
      "73    /usr/lib/python2.7/dist-packages/virtualenvwra...             NaN  \n",
      "74    /usr/lib/python2.7/dist-packages/lazr.restfulc...             NaN  \n",
      "...                                                 ...             ...  \n",
      "2056      /usr/lib/xorg/modules/drivers/neomagic_drv.so           <OLD>  \n",
      "2057          /usr/lib/xorg/modules/drivers/r128_drv.so           <OLD>  \n",
      "2058           /usr/lib/xorg/modules/drivers/mga_drv.so           <OLD>  \n",
      "2059        /usr/lib/xorg/modules/drivers/mach64_drv.so           <OLD>  \n",
      "2060     /usr/lib/xorg/modules/drivers/cirrus_alpine.so           <OLD>  \n",
      "2061           /usr/lib/xorg/modules/input/mouse_drv.so           <OLD>  \n",
      "2062                                    /usr/bin/espeak           <OLD>  \n",
      "2063                                           /sbin/iw           <OLD>  \n",
      "2064             /usr/lib/pyshared/python2.7/virtkey.so           <OLD>  \n",
      "2065           /usr/lib/pyshared/python2.7/_rl_accel.so           <OLD>  \n",
      "2066           /usr/lib/pyshared/python2.7/_renderPM.so           <OLD>  \n",
      "2067                                      /usr/bin/lshw           <OLD>  \n",
      "2068            /usr/lib/ibus-pinyin/ibus-engine-pinyin           <OLD>  \n",
      "2069                                   /usr/bin/toshset           <OLD>  \n",
      "2070                         /usr/lib/cups/filter/c2esp           <OLD>  \n",
      "2071                            /usr/sbin/avahi-autoipd           <OLD>  \n",
      "2073                                /usr/sbin/pppconfig           <OLD>  \n",
      "2074                            /usr/sbin/update-passwd           <OLD>  \n",
      "2076                                    /usr/bin/ltrace           <OLD>  \n",
      "2078                 /usr/lib/memtest86+/memtest86+.elf           <OLD>  \n",
      "2079                                /usr/sbin/vpddecode           <OLD>  \n",
      "2085                   /usr/sbin/update-grub-gfxpayload           <OLD>  \n",
      "2086                              /usr/sbin/safe_finger           <OLD>  \n",
      "2087                                       /usr/bin/mtr           <OLD>  \n",
      "2088                                /usr/sbin/pppoeconf           <OLD>  \n",
      "2089                                   /usr/bin/xfsinfo           <OLD>  \n",
      "2090                                      /usr/bin/rpl8           <OLD>  \n",
      "2092                                  /usr/sbin/vbetool           <OLD>  \n",
      "2093                                     /usr/sbin/pptp           <OLD>  \n",
      "2095                            /usr/sbin/laptop-detect           <OLD>  \n",
      "\n",
      "[1216 rows x 5 columns]\n"
     ]
    }
   ],
   "source": [
    "nonlibraries = popcon[~popcon['package-name'].str.contains('lib')]\n",
    "print nonlibraries"
   ]
  },
  {
   "cell_type": "code",
   "execution_count": 15,
   "metadata": {},
   "outputs": [
    {
     "ename": "AttributeError",
     "evalue": "'DataFrame' object has no attribute 'sort'",
     "output_type": "error",
     "traceback": [
      "\u001b[0;31m---------------------------------------------------------------------------\u001b[0m",
      "\u001b[0;31mAttributeError\u001b[0m                            Traceback (most recent call last)",
      "\u001b[0;32m<ipython-input-15-ed28c2219b12>\u001b[0m in \u001b[0;36m<module>\u001b[0;34m()\u001b[0m\n\u001b[0;32m----> 1\u001b[0;31m \u001b[0mnonlibraries\u001b[0m\u001b[0;34m.\u001b[0m\u001b[0msort\u001b[0m\u001b[0;34m(\u001b[0m\u001b[0;34m'ctime'\u001b[0m\u001b[0;34m,\u001b[0m \u001b[0mascending\u001b[0m\u001b[0;34m=\u001b[0m\u001b[0mFalse\u001b[0m\u001b[0;34m)\u001b[0m\u001b[0;34m\u001b[0m\u001b[0m\n\u001b[0m",
      "\u001b[0;32m/usr/local/lib/python2.7/dist-packages/pandas/core/generic.pyc\u001b[0m in \u001b[0;36m__getattr__\u001b[0;34m(self, name)\u001b[0m\n\u001b[1;32m   3079\u001b[0m             \u001b[0;32mif\u001b[0m \u001b[0mname\u001b[0m \u001b[0;32min\u001b[0m \u001b[0mself\u001b[0m\u001b[0;34m.\u001b[0m\u001b[0m_info_axis\u001b[0m\u001b[0;34m:\u001b[0m\u001b[0;34m\u001b[0m\u001b[0m\n\u001b[1;32m   3080\u001b[0m                 \u001b[0;32mreturn\u001b[0m \u001b[0mself\u001b[0m\u001b[0;34m[\u001b[0m\u001b[0mname\u001b[0m\u001b[0;34m]\u001b[0m\u001b[0;34m\u001b[0m\u001b[0m\n\u001b[0;32m-> 3081\u001b[0;31m             \u001b[0;32mreturn\u001b[0m \u001b[0mobject\u001b[0m\u001b[0;34m.\u001b[0m\u001b[0m__getattribute__\u001b[0m\u001b[0;34m(\u001b[0m\u001b[0mself\u001b[0m\u001b[0;34m,\u001b[0m \u001b[0mname\u001b[0m\u001b[0;34m)\u001b[0m\u001b[0;34m\u001b[0m\u001b[0m\n\u001b[0m\u001b[1;32m   3082\u001b[0m \u001b[0;34m\u001b[0m\u001b[0m\n\u001b[1;32m   3083\u001b[0m     \u001b[0;32mdef\u001b[0m \u001b[0m__setattr__\u001b[0m\u001b[0;34m(\u001b[0m\u001b[0mself\u001b[0m\u001b[0;34m,\u001b[0m \u001b[0mname\u001b[0m\u001b[0;34m,\u001b[0m \u001b[0mvalue\u001b[0m\u001b[0;34m)\u001b[0m\u001b[0;34m:\u001b[0m\u001b[0;34m\u001b[0m\u001b[0m\n",
      "\u001b[0;31mAttributeError\u001b[0m: 'DataFrame' object has no attribute 'sort'"
     ]
    }
   ],
   "source": [
    "nonlibraries.sort('ctime', ascending=False)"
   ]
  },
  {
   "cell_type": "markdown",
   "metadata": {},
   "source": [
    "Okay, cool, it says that I I installed ddd recently. And postgresql! I remember installing those things. Neat."
   ]
  },
  {
   "cell_type": "markdown",
   "metadata": {},
   "source": [
    "The whole message here is that if you have a timestamp in seconds or milliseconds or nanoseconds, then you can just \"cast\" it to a `'datetime64[the-right-thing]'` and pandas/numpy will take care of the rest."
   ]
  },
  {
   "cell_type": "markdown",
   "metadata": {},
   "source": [
    "<style>\n",
    "    @font-face {\n",
    "        font-family: \"Computer Modern\";\n",
    "        src: url('http://mirrors.ctan.org/fonts/cm-unicode/fonts/otf/cmunss.otf');\n",
    "    }\n",
    "    div.cell{\n",
    "        width:800px;\n",
    "        margin-left:16% !important;\n",
    "        margin-right:auto;\n",
    "    }\n",
    "    h1 {\n",
    "        font-family: Helvetica, serif;\n",
    "    }\n",
    "    h4{\n",
    "        margin-top:12px;\n",
    "        margin-bottom: 3px;\n",
    "       }\n",
    "    div.text_cell_render{\n",
    "        font-family: Computer Modern, \"Helvetica Neue\", Arial, Helvetica, Geneva, sans-serif;\n",
    "        line-height: 145%;\n",
    "        font-size: 130%;\n",
    "        width:800px;\n",
    "        margin-left:auto;\n",
    "        margin-right:auto;\n",
    "    }\n",
    "    .CodeMirror{\n",
    "            font-family: \"Source Code Pro\", source-code-pro,Consolas, monospace;\n",
    "    }\n",
    "    .text_cell_render h5 {\n",
    "        font-weight: 300;\n",
    "        font-size: 22pt;\n",
    "        color: #4057A1;\n",
    "        font-style: italic;\n",
    "        margin-bottom: .5em;\n",
    "        margin-top: 0.5em;\n",
    "        display: block;\n",
    "    }\n",
    "    \n",
    "    .warning{\n",
    "        color: rgb( 240, 20, 20 )\n",
    "        }  "
   ]
  }
 ],
 "metadata": {
  "kernelspec": {
   "display_name": "Python 2",
   "language": "python",
   "name": "python2"
  },
  "language_info": {
   "codemirror_mode": {
    "name": "ipython",
    "version": 2
   },
   "file_extension": ".py",
   "mimetype": "text/x-python",
   "name": "python",
   "nbconvert_exporter": "python",
   "pygments_lexer": "ipython2",
   "version": "2.7.6"
  }
 },
 "nbformat": 4,
 "nbformat_minor": 1
}
