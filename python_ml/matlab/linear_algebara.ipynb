{
 "cells": [
  {
   "cell_type": "code",
   "execution_count": 1,
   "metadata": {},
   "outputs": [
    {
     "name": "stdout",
     "output_type": "stream",
     "text": [
      "Tensorflow version: 1.2.0\n",
      "A = \n",
      "[[ 1.  2.]\n",
      " [ 3.  4.]]\n",
      "B = \n",
      "[[ 5.  0.]\n",
      " [ 0.  6.]]\n",
      "C = \n",
      "[[ 1.  2.]\n",
      " [ 2.  4.]]\n",
      "x = \n",
      "[[ 1.]\n",
      " [ 1.]]\n",
      "b = \n",
      "[[ 2.]\n",
      " [ 2.]]\n",
      "y = \n",
      "[[-1.]\n",
      " [ 1.]]\n",
      "Ax = \n",
      "[[ 3.]\n",
      " [ 7.]]\n",
      "A + B =\n",
      "[[  6.   2.]\n",
      " [  3.  10.]]\n",
      "A + b =\n",
      "[[ 3.  4.]\n",
      " [ 5.  6.]]\n",
      "tensorRank(A) = \n",
      "2\n",
      "tensorRank(C) = \n",
      "2\n",
      "rank(A) = \n",
      "2\n",
      "rank(C) = \n",
      "1\n",
      "tran(A) = \n",
      "[[ 1.  3.]\n",
      " [ 2.  4.]]\n",
      "tran(B) = \n",
      "[[ 5.  0.]\n",
      " [ 0.  6.]]\n",
      "inv(A) = \n",
      "[[-2.00000024  1.00000012]\n",
      " [ 1.50000012 -0.50000006]]\n",
      "inv(B) = \n",
      "[[ 0.2         0.        ]\n",
      " [ 0.          0.16666667]]\n",
      "inv(C) = \n",
      "C is not invertible\n",
      "A*inv(A) = Eye(2)\n",
      "[[  1.00000000e+00   0.00000000e+00]\n",
      " [ -4.76837158e-07   1.00000024e+00]]\n",
      "elem(A)*elem(B) = \n",
      "[[  5.   0.]\n",
      " [  0.  24.]]\n",
      "elem(A)+elem(B) = \n",
      "[[  6.   2.]\n",
      " [  3.  10.]]\n",
      "x dot b\n",
      "[[ 4.]]\n",
      "eye(A) = \n",
      "[[ 1.  0.]\n",
      " [ 0.  1.]]\n",
      "eye(A)*A = A = \n",
      "[[ 1.  2.]\n",
      " [ 3.  4.]]\n",
      "A * eye(A) = A = \n",
      "[[ 1.  2.]\n",
      " [ 3.  4.]]\n",
      "l1(x) = \n",
      "2.0\n",
      "l2(x) = \n",
      "1.41421\n",
      "Frobenius(A) = \n",
      "5.47723\n",
      "Numpy l2(x) =\n",
      "1.41421\n",
      "Numpy Forbenius(A) =\n",
      "5.47723\n",
      "x dot y\n",
      "[[ 0.]]\n",
      "Numpy Eigenvalues of (A)=\n",
      "[-0.37228131  5.37228155]\n",
      "Numpy Eigenvectors of (A)=\n",
      "[[-0.82456481 -0.41597354]\n",
      " [ 0.56576747 -0.90937668]]\n",
      "Frobenius(A) = Tr(A*tran(A) = \n",
      "5.47723\n",
      "det(A)=\n",
      "-2.0\n",
      "det(A) as product of eigenvalues\n",
      "-2.0\n"
     ]
    }
   ],
   "source": [
    "from __future__ import print_function\n",
    "\n",
    "import tensorflow as tf\n",
    "import numpy as np\n",
    "\n",
    "# Square matrix A of rank 2\n",
    "A = tf.constant([ [1.,2.], [3.,4.] ])\n",
    "\n",
    "# 2x2 Square, Diagonal, Symmetric matrix B\n",
    "B = tf.diag([5.,6.])\n",
    "\n",
    "# 2x2 Square matrix\n",
    "C = tf.constant([ [1.,2.], [2.,4.] ])\n",
    "\n",
    "# 2x1 vector will all elements equal to 1\n",
    "x = tf.ones([2,1])\n",
    "\n",
    "# 2x1 vector will all elements equal to 2.0\n",
    "b = tf.fill([2,1], 2.)\n",
    "\n",
    "# 2x1 vector\n",
    "y = tf.constant([ [-1.], [1.] ])\n",
    "\n",
    "# run within a session and print\n",
    "with tf.Session() as session:\n",
    "    print(\"Tensorflow version: \" + tf.__version__)\n",
    "    tf.global_variables_initializer().run()\n",
    "\n",
    "    print(\"A = \")\n",
    "    print(A.eval())\n",
    "\n",
    "    print(\"B = \")\n",
    "    print(B.eval())\n",
    "\n",
    "    print(\"C = \")\n",
    "    print(C.eval())\n",
    "\n",
    "    print(\"x = \")\n",
    "    print(x.eval())\n",
    "\n",
    "    print(\"b = \")\n",
    "    print(b.eval())\n",
    "\n",
    "    print(\"y = \")\n",
    "    print(y.eval())\n",
    "\n",
    "    # Tensor multiplication\n",
    "    print(\"Ax = \")\n",
    "    print(tf.matmul(A, x).eval())\n",
    "\n",
    "    # Tensor addition\n",
    "    print(\"A + B =\")\n",
    "    print(tf.add(A, B).eval())\n",
    "\n",
    "    print(\"A + b =\")\n",
    "    print(tf.add(A, b).eval())\n",
    "\n",
    "    # Rank of A and B; Number of indices to identify each element\n",
    "    print(\"tensorRank(A) = \")\n",
    "    print(tf.rank(A).eval())\n",
    "    print(\"tensorRank(C) = \")\n",
    "    print(tf.rank(C).eval())\n",
    "\n",
    "    # Matrix rank\n",
    "    print(\"rank(A) = \")\n",
    "    print(np.linalg.matrix_rank(A.eval()))\n",
    "    print(\"rank(C) = \")\n",
    "    print(np.linalg.matrix_rank(C.eval()))\n",
    "\n",
    "    # Transpose\n",
    "    print(\"tran(A) = \")\n",
    "    print(tf.matrix_transpose(A).eval())\n",
    "    print(\"tran(B) = \")\n",
    "    print(tf.matrix_transpose(B).eval())\n",
    "\n",
    "    # Inverse\n",
    "    print(\"inv(A) = \")\n",
    "    print(tf.matrix_inverse(A).eval())\n",
    "    # Inverse of diagonal matrix has diag elements of the reciprocal of diag elements B\n",
    "    print(\"inv(B) = \")\n",
    "    print(tf.matrix_inverse(B).eval())\n",
    "    print(\"inv(C) = \") # since C has rank 1, this will cause error\n",
    "    try:\n",
    "        print(tf.matrix_inverse(C).eval())\n",
    "    except:\n",
    "        print(\"C is not invertible\")\n",
    "\n",
    "    # Product of a matrix and its inverse is an identity (non-singular)\n",
    "    print(\"A*inv(A) = Eye(2)\")\n",
    "    print( tf.matmul(A,tf.matrix_inverse(A)).eval() )\n",
    "\n",
    "    # Element-wise multiplication\n",
    "    print(\"elem(A)*elem(B) = \")\n",
    "    print(tf.multiply(A,B).eval())\n",
    "\n",
    "    # Element-wise addition\n",
    "    print(\"elem(A)+elem(B) = \")\n",
    "    print(tf.add(A,B).eval())\n",
    "\n",
    "    # Dot product\n",
    "    print(\"x dot b\")\n",
    "    print(tf.matmul(x,b,transpose_a=True).eval())\n",
    "\n",
    "    # Identity matrix of same shape as A\n",
    "    print(\"eye(A) = \")\n",
    "    I = tf.eye(A.get_shape().as_list()[0],A.get_shape().as_list()[1])\n",
    "    print(I.eval())\n",
    "\n",
    "    # Multiply eye(A) and A = A\n",
    "    print(\"eye(A)*A = A = \")\n",
    "    print(tf.matmul(I,A).eval())\n",
    "    print(\"A * eye(A) = A = \")\n",
    "    print(tf.matmul(A, I).eval())\n",
    "\n",
    "    # l1, l2, Frobenius norm\n",
    "    print(\"l1(x) = \")\n",
    "    print(tf.reduce_sum(tf.abs(x)).eval())\n",
    "    print(\"l2(x) = \")\n",
    "    print(tf.sqrt(tf.reduce_sum(tf.square(x))).eval())\n",
    "    print(\"Frobenius(A) = \")\n",
    "    print(tf.sqrt(tf.reduce_sum(tf.square(A))).eval())\n",
    "    print(\"Numpy l2(x) =\")\n",
    "    print(np.linalg.norm(x.eval(session=tf.Session())))\n",
    "    print(\"Numpy Forbenius(A) =\")\n",
    "    print(np.linalg.norm(A.eval(session=tf.Session())))\n",
    "\n",
    "    # Can you write the L(inf) ?\n",
    "\n",
    "    # Orthogonal vectors; How do you make x and y orthonormal?\n",
    "    print(\"x dot y\")\n",
    "    print(tf.matmul(x,y,transpose_a=True).eval())\n",
    "\n",
    "    # Eigenvalues and eigenvectors\n",
    "    print(\"Numpy Eigenvalues of (A)=\")\n",
    "    e, v = np.linalg.eig(A.eval())\n",
    "    print(e)\n",
    "    print(\"Numpy Eigenvectors of (A)=\")\n",
    "    print(v)\n",
    "\n",
    "    # Frobenius norm is equal to the trace of A*tran(A)\n",
    "    print(\"Frobenius(A) = Tr(A*tran(A) = \")\n",
    "    print(tf.sqrt(tf.trace(tf.matmul(A,tf.transpose(A)))).eval())\n",
    "\n",
    "    # Determinant of A is the product of its eigenvalues\n",
    "    print(\"det(A)=\")\n",
    "    print(tf.matrix_determinant(A).eval())\n",
    "    # Determinant from eigenvalues\n",
    "    print(\"det(A) as product of eigenvalues\")\n",
    "    print(tf.reduce_prod(e).eval())"
   ]
  },
  {
   "cell_type": "code",
   "execution_count": 2,
   "metadata": {},
   "outputs": [
    {
     "name": "stdout",
     "output_type": "stream",
     "text": [
      "Tensorflow version: 1.2.0\n",
      "S = \n",
      "[[ 1.  2.]\n",
      " [ 2.  1.]]\n",
      "S_ = S = \n",
      "[[ 0.99999994  1.99999976]\n",
      " [ 1.99999976  0.99999994]]\n",
      "I = \n",
      "[[ 0.          0.99999994]\n",
      " [ 0.99999994  0.        ]]\n",
      "S_ = S = \n",
      "[[ 0.99999994  1.99999976]\n",
      " [ 1.99999976  0.99999994]]\n",
      "pseudo_inv(S) = \n",
      "[[-0.33333331  0.66666669]\n",
      " [ 0.66666669 -0.33333331]]\n",
      "inv(S) = \n",
      "[[-0.33333334  0.66666669]\n",
      " [ 0.66666669 -0.33333334]]\n"
     ]
    }
   ],
   "source": [
    "from __future__ import print_function\n",
    "\n",
    "import tensorflow as tf\n",
    "import numpy as np\n",
    "import numpy.linalg as la\n",
    "\n",
    "print(\"Tensorflow version: \" + tf.__version__)\n",
    "# Real symmetric matrix S of rank 2\n",
    "S = tf.constant([ [1.,2.], [2.,1.] ])\n",
    "print(\"S = \")\n",
    "print(S.eval(session=tf.Session()))\n",
    "\n",
    "# Eigen Decomposition - for square symmetric matrices only\n",
    "# self_adjoint_eig works only bec symmetric matrix is equal to its self adjoint\n",
    "# otherwise, use np.linalg.eig\n",
    "e,Q = tf.self_adjoint_eig(S)\n",
    "# Diagonal matrix made of eigenvalues of S\n",
    "V = tf.diag(e)\n",
    "# S_ = S since S = Q*V*tran(Q) for real symmetric matrix\n",
    "S_ = tf.matmul(Q,tf.matmul(V,Q))\n",
    "print(\"S_ = S = \")\n",
    "print(S_.eval(session=tf.Session()))\n",
    "\n",
    "# SVD decomposition\n",
    "d, U, V1 = tf.svd(S, full_matrices=True, compute_uv=True)\n",
    "# U and V1 are orthogonal matrices; I must be therefore an identity matrix\n",
    "I = tf.matmul(U,tf.transpose(V1))\n",
    "print(\"I = \")\n",
    "print(I.eval(session=tf.Session()))\n",
    "D = tf.diag(d)\n",
    "# S_ = S since S = U*D*tran(V1)\n",
    "print(\"S_ = S = \")\n",
    "S_ = tf.matmul(U,tf.matmul(D,tf.transpose(V1)))\n",
    "print(S_.eval(session=tf.Session()))\n",
    "\n",
    "# Moore-Penrose pseudoinverse\n",
    "# For non-square matrices, padding of m-n zero columns needed (see linear_inv.y)\n",
    "D = tf.transpose(tf.diag(np.reciprocal(d)))\n",
    "print(\"pseudo_inv(S) = \")\n",
    "S_ = tf.matmul(V1,tf.matmul(D,tf.transpose(U)))\n",
    "print(S_.eval(session=tf.Session()))\n",
    "\n",
    "# inverse of S BUT applicable to non-singular square matrices only\n",
    "print(\"inv(S) = \")\n",
    "print(tf.matrix_inverse(S).eval(session=tf.Session()))"
   ]
  },
  {
   "cell_type": "code",
   "execution_count": 4,
   "metadata": {},
   "outputs": [
    {
     "name": "stdout",
     "output_type": "stream",
     "text": [
      "Tensorflow version: 1.2.0\n",
      "Run on command line.\n",
      "\ttensorboard --logdir=/tmp/tensorflow_logs/normal \n",
      "Point your web browser to: http://localhost:6006/\n"
     ]
    }
   ],
   "source": [
    "from __future__ import print_function\n",
    "\n",
    "import tensorflow as tf\n",
    "\n",
    "# Temporary directory for storing data for plotting using TensorBoard\n",
    "logs_path = '/tmp/tensorflow_logs/normal'\n",
    "\n",
    "print(\"Tensorflow version: \" + tf.__version__)\n",
    "\n",
    "# Generate N=100k samples from Gaussian or Normal dist; mean=0.0, std=1.0\n",
    "with tf.name_scope('normal'):\n",
    "    normal_dist = tf.Variable(tf.random_normal([100000]))\n",
    "    # normal_dist = tf.mul(A,[1])\n",
    "\n",
    "# Generate N=100k samples from Uniform dist; min=0, max=None\n",
    "with tf.name_scope('uniform'):\n",
    "    uniform_dist = tf.Variable(tf.random_uniform([100000]))\n",
    "    # uniform_dist = tf.mul(B,[1])\n",
    "\n",
    "# Generate a multinomial with 4 categories (ie 0,1,2,3), 100 samples\n",
    "with tf.name_scope('multinomial'):\n",
    "    multi_dist = tf.Variable(tf.multinomial([[1.,1.,1.,1.]],100000))\n",
    "    # multi_dist = C # tf.mul(C,[1])\n",
    "\n",
    "# Create a summary to monitor normal dist\n",
    "tf.summary.histogram(\"normal\", normal_dist)\n",
    "# Create a summary to monitor uniform dist\n",
    "tf.summary.histogram(\"uniform\", uniform_dist)\n",
    "# Create a summary to monitor multinomial dist\n",
    "tf.summary.histogram(\"multinomial\", multi_dist)\n",
    "\n",
    "# Merge all summaries into a single op\n",
    "merged = tf.summary.merge_all()\n",
    "\n",
    "# Summary writer\n",
    "with tf.Session() as session:\n",
    "    tf.global_variables_initializer().run()\n",
    "    # Logs to Tensorboard\n",
    "    writer = tf.summary.FileWriter(logs_path, graph=tf.get_default_graph())\n",
    "    for i in range(2):\n",
    "        _, _, _, summary = session.run([normal_dist,uniform_dist,multi_dist, merged])\n",
    "        writer.add_summary(summary,i)\n",
    "    print(\"Run on command line.\")\n",
    "    print(\"\\ttensorboard --logdir=/tmp/tensorflow_logs/normal \")\n",
    "    print(\"Point your web browser to: http://localhost:6006/\")"
   ]
  },
  {
   "cell_type": "code",
   "execution_count": 9,
   "metadata": {},
   "outputs": [
    {
     "name": "stdout",
     "output_type": "stream",
     "text": [
      "10 : Loss=6.5,  Predicted Parameters = [[ 3.60352397]\n",
      " [-3.35825634]\n",
      " [ 9.81227779]]\n",
      "20 : Loss=0.1,  Predicted Parameters = [[  2.31394315]\n",
      " [ -3.51630354]\n",
      " [ 12.02575684]]\n",
      "30 : Loss=0.0,  Predicted Parameters = [[  2.07321882]\n",
      " [ -3.52767754]\n",
      " [ 12.32851791]]\n",
      "40 : Loss=0.0,  Predicted Parameters = [[  2.00376916]\n",
      " [ -3.52944374]\n",
      " [ 12.46240139]]\n",
      "50 : Loss=0.0,  Predicted Parameters = [[  2.00913358]\n",
      " [ -3.50743699]\n",
      " [ 12.4890337 ]]\n",
      "60 : Loss=0.0,  Predicted Parameters = [[  2.00039959]\n",
      " [ -3.50175714]\n",
      " [ 12.49673462]]\n",
      "70 : Loss=0.0,  Predicted Parameters = [[  2.00036216]\n",
      " [ -3.50024128]\n",
      " [ 12.49934578]]\n",
      "80 : Loss=0.0,  Predicted Parameters = [[  2.0000627 ]\n",
      " [ -3.50005794]\n",
      " [ 12.49982738]]\n",
      "90 : Loss=0.0,  Predicted Parameters = [[  2.00000739]\n",
      " [ -3.50001025]\n",
      " [ 12.49994469]]\n",
      "100 : Loss=0.0,  Predicted Parameters = [[  2.00000858]\n",
      " [ -3.50000453]\n",
      " [ 12.49998379]]\n"
     ]
    },
    {
     "data": {
      "image/png": "[encoded data removed]",
      "text/plain": [
       "<matplotlib.figure.Figure at 0x7f320b849790>"
      ]
     },
     "metadata": {},
     "output_type": "display_data"
    }
   ],
   "source": [
    "from __future__ import print_function\n",
    "\n",
    "import tensorflow as tf\n",
    "import matplotlib.pyplot as plt\n",
    "import matplotlib.patches as mpatches\n",
    "import numpy as np\n",
    "\n",
    "# Tunable parameters (Try changing the values and see what happens)\n",
    "# Variable samples >= 3 ; stddev > 0.; xcoeff are real numbers\n",
    "samples = 10\n",
    "stddev = 1.0\n",
    "# xcoeff should be predicted by the model, yp\n",
    "xcoeff = tf.transpose(tf.constant([[2., -3.5, 12.5]]))\n",
    "learning_rate = 0.1\n",
    "\n",
    "# The computation\n",
    "# We get elements of A by sampling a normal distribution\n",
    "# a = tf.random_normal([samples,1],stddev=stddev)\n",
    "a = tf.random_normal([1, samples],stddev=stddev)\n",
    "# a = tf.Variable(tf.random_normal([1, samples],stddev=stddev))\n",
    "# Sort to produce a nice plot later\n",
    "b, _ = tf.nn.top_k(a,k=samples)\n",
    "# Correct the shape\n",
    "a = tf.reshape(b,[samples,1])\n",
    "\n",
    "# Inputs to form y = a*a*xp[0] + a*xp[1] + xp[2], xp[] are the weights\n",
    "A = tf.concat([tf.concat([a*a,a],1),tf.ones_like(a)],1)\n",
    "\n",
    "# Initial guess on coefficients of predicted linear model\n",
    "xp = tf.Variable(tf.random_uniform([3,1], -1.0, 1.0))\n",
    "\n",
    "# Predicted Model\n",
    "yp = tf.matmul(A,xp)\n",
    "\n",
    "# Observed outputs\n",
    "y = tf.matmul(A,xcoeff)\n",
    "\n",
    "\n",
    "# The smaller the loss, the closer our prediction to the observed outputs\n",
    "# The loss model used is square of error (yp - y)\n",
    "# Miinimization of loss is done by Gradient Descent\n",
    "loss = tf.reduce_mean(tf.square(yp - y))\n",
    "optimizer = tf.train.GradientDescentOptimizer(learning_rate=learning_rate)\n",
    "train_step = optimizer.minimize(loss)\n",
    "\n",
    "init = tf.global_variables_initializer()\n",
    "with tf.Session() as session:\n",
    "    session.run(init)\n",
    "    for i in range(100):\n",
    "        session.run(train_step)\n",
    "        if ((i+1) % 10) == 0:\n",
    "            print(\"%d : Loss=%0.1lf,  Predicted Parameters = %s\" % (i+1, loss.eval(), session.run(xp)))\n",
    "    # Let's plot\n",
    "    # Note we have to resample a and save in a constant array a\n",
    "    # Before this, everytime you call a.eval(), it is resampled\n",
    "    a = np.array(a.eval())\n",
    "    A = tf.concat([tf.concat([a*a,a],1),tf.ones_like(a)],1)\n",
    "    yp = tf.matmul(A,xp)\n",
    "    y = tf.matmul(A,xcoeff)\n",
    "    plt.plot(a, y.eval(), 'ro', a, yp.eval(), 'b')\n",
    "    red = mpatches.Patch(color='red', label='Data')\n",
    "    blue = mpatches.Patch(color='blue', label='Model')\n",
    "    plt.legend(handles=[red,blue])\n",
    "    plt.show()"
   ]
  },
  {
   "cell_type": "code",
   "execution_count": 30,
   "metadata": {},
   "outputs": [
    {
     "name": "stdout",
     "output_type": "stream",
     "text": [
      "[[ 1  2  3  7  8  9]\n",
      " [ 4  5  6 10 11 12]]\n",
      "[2 6]\n"
     ]
    },
    {
     "ename": "TypeError",
     "evalue": "can't multiply sequence by non-int of type 'list'",
     "output_type": "error",
     "traceback": [
      "\u001b[0;31m---------------------------------------------------------------------------\u001b[0m",
      "\u001b[0;31mTypeError\u001b[0m                                 Traceback (most recent call last)",
      "\u001b[0;32m<ipython-input-30-23a70d80f6b3>\u001b[0m in \u001b[0;36m<module>\u001b[0;34m()\u001b[0m\n\u001b[1;32m     11\u001b[0m \u001b[0ma\u001b[0m \u001b[0;34m=\u001b[0m \u001b[0;34m[\u001b[0m\u001b[0;34m[\u001b[0m\u001b[0;36m0\u001b[0m\u001b[0;34m,\u001b[0m \u001b[0;36m1\u001b[0m\u001b[0;34m,\u001b[0m \u001b[0;36m2\u001b[0m\u001b[0;34m]\u001b[0m\u001b[0;34m]\u001b[0m\u001b[0;34m\u001b[0m\u001b[0m\n\u001b[1;32m     12\u001b[0m \u001b[0;31m#print(a.eval(session=sess))\u001b[0m\u001b[0;34m\u001b[0m\u001b[0;34m\u001b[0m\u001b[0m\n\u001b[0;32m---> 13\u001b[0;31m \u001b[0mA\u001b[0m \u001b[0;34m=\u001b[0m \u001b[0mtf\u001b[0m\u001b[0;34m.\u001b[0m\u001b[0mconcat\u001b[0m\u001b[0;34m(\u001b[0m\u001b[0;34m[\u001b[0m\u001b[0mtf\u001b[0m\u001b[0;34m.\u001b[0m\u001b[0mconcat\u001b[0m\u001b[0;34m(\u001b[0m\u001b[0;34m[\u001b[0m\u001b[0ma\u001b[0m\u001b[0;34m*\u001b[0m\u001b[0ma\u001b[0m\u001b[0;34m,\u001b[0m\u001b[0ma\u001b[0m\u001b[0;34m]\u001b[0m\u001b[0;34m,\u001b[0m\u001b[0;36m1\u001b[0m\u001b[0;34m)\u001b[0m\u001b[0;34m,\u001b[0m\u001b[0mtf\u001b[0m\u001b[0;34m.\u001b[0m\u001b[0mones_like\u001b[0m\u001b[0;34m(\u001b[0m\u001b[0ma\u001b[0m\u001b[0;34m)\u001b[0m\u001b[0;34m]\u001b[0m\u001b[0;34m,\u001b[0m\u001b[0;36m1\u001b[0m\u001b[0;34m)\u001b[0m\u001b[0;34m\u001b[0m\u001b[0m\n\u001b[0m\u001b[1;32m     14\u001b[0m \u001b[0;32mprint\u001b[0m\u001b[0;34m(\u001b[0m\u001b[0mA\u001b[0m\u001b[0;34m.\u001b[0m\u001b[0meval\u001b[0m\u001b[0;34m(\u001b[0m\u001b[0msession\u001b[0m\u001b[0;34m=\u001b[0m\u001b[0msess\u001b[0m\u001b[0;34m)\u001b[0m\u001b[0;34m)\u001b[0m\u001b[0;34m\u001b[0m\u001b[0m\n",
      "\u001b[0;31mTypeError\u001b[0m: can't multiply sequence by non-int of type 'list'"
     ]
    }
   ],
   "source": [
    "sess = tf.Session()\n",
    "t1 = [[1, 2, 3], [4, 5, 6]]\n",
    "t2 = [[7, 8, 9], [10, 11, 12]]\n",
    "tmp = tf.concat([t1, t2], 1) #==> [[1, 2, 3], [4, 5, 6], [7, 8, 9], [10, 11, 12]]\n",
    "tf.concat([t1, t2], 1) #==> [[1, 2, 3, 7, 8, 9], [4, 5, 6, 10, 11, 12]]\n",
    "\n",
    "print(tmp.eval(session=sess))\n",
    "print (tf.shape(tmp).eval(session=sess))\n",
    "\n",
    "#a = tf.random_normal([1, 2],stddev=stddev)\n",
    "a = [[0, 1, 2]]\n",
    "#print(a.eval(session=sess))\n",
    "A = tf.concat([tf.concat([a*a,a],1),tf.ones_like(a)],1)\n",
    "print(A.eval(session=sess))"
   ]
  },
  {
   "cell_type": "code",
   "execution_count": 31,
   "metadata": {},
   "outputs": [
    {
     "name": "stdout",
     "output_type": "stream",
     "text": [
      "Epoch: 0050 cost= 0.077044673 W= 0.245719 b= 0.829342\n",
      "Epoch: 0100 cost= 0.077038802 W= 0.245949 b= 0.827684\n",
      "Epoch: 0150 cost= 0.077033550 W= 0.246166 b= 0.826123\n",
      "Epoch: 0200 cost= 0.077028893 W= 0.24637 b= 0.824655\n",
      "Epoch: 0250 cost= 0.077024750 W= 0.246562 b= 0.823276\n",
      "Epoch: 0300 cost= 0.077021077 W= 0.246742 b= 0.821979\n",
      "Epoch: 0350 cost= 0.077017829 W= 0.246912 b= 0.820758\n",
      "Epoch: 0400 cost= 0.077014916 W= 0.247072 b= 0.81961\n",
      "Epoch: 0450 cost= 0.077012330 W= 0.247222 b= 0.81853\n",
      "Epoch: 0500 cost= 0.077010050 W= 0.247363 b= 0.817513\n",
      "Epoch: 0550 cost= 0.077008009 W= 0.247496 b= 0.816559\n",
      "Epoch: 0600 cost= 0.077006184 W= 0.24762 b= 0.815661\n",
      "Epoch: 0650 cost= 0.077004574 W= 0.247738 b= 0.814817\n",
      "Epoch: 0700 cost= 0.077003114 W= 0.247848 b= 0.814022\n",
      "Epoch: 0750 cost= 0.077001847 W= 0.247952 b= 0.813273\n",
      "Epoch: 0800 cost= 0.077000715 W= 0.24805 b= 0.81257\n",
      "Epoch: 0850 cost= 0.076999679 W= 0.248142 b= 0.811908\n",
      "Epoch: 0900 cost= 0.076998770 W= 0.248229 b= 0.811284\n",
      "Epoch: 0950 cost= 0.076997973 W= 0.24831 b= 0.8107\n",
      "Epoch: 1000 cost= 0.076997250 W= 0.248386 b= 0.810153\n",
      "Optimization Finished!\n",
      "Training cost= 0.0769973 W= 0.248386 b= 0.810153 \n",
      "\n"
     ]
    },
    {
     "data": {
      "image/png": "[encoded data removed]",
      "text/plain": [
       "<matplotlib.figure.Figure at 0x7f3178724dd0>"
      ]
     },
     "metadata": {},
     "output_type": "display_data"
    },
    {
     "name": "stdout",
     "output_type": "stream",
     "text": [
      "Testing... (Mean square loss Comparison)\n",
      "Testing cost= 0.0793582\n",
      "Absolute mean square loss difference: 0.00236098\n"
     ]
    },
    {
     "data": {
      "image/png": "[encoded data removed]",
      "text/plain": [
       "<matplotlib.figure.Figure at 0x7f31c8031a10>"
      ]
     },
     "metadata": {},
     "output_type": "display_data"
    }
   ],
   "source": [
    "from __future__ import print_function\n",
    "\n",
    "import tensorflow as tf\n",
    "import numpy\n",
    "import matplotlib.pyplot as plt\n",
    "rng = numpy.random\n",
    "\n",
    "# Parameters\n",
    "learning_rate = 0.01\n",
    "training_epochs = 1000\n",
    "display_step = 50\n",
    "\n",
    "# Training Data\n",
    "train_X = numpy.asarray([3.3,4.4,5.5,6.71,6.93,4.168,9.779,6.182,7.59,2.167,\n",
    "                         7.042,10.791,5.313,7.997,5.654,9.27,3.1])\n",
    "train_Y = numpy.asarray([1.7,2.76,2.09,3.19,1.694,1.573,3.366,2.596,2.53,1.221,\n",
    "                         2.827,3.465,1.65,2.904,2.42,2.94,1.3])\n",
    "n_samples = train_X.shape[0]\n",
    "\n",
    "# tf Graph Input\n",
    "X = tf.placeholder(\"float\")\n",
    "Y = tf.placeholder(\"float\")\n",
    "\n",
    "# Set model weights\n",
    "W = tf.Variable(rng.randn(), name=\"weight\")\n",
    "b = tf.Variable(rng.randn(), name=\"bias\")\n",
    "\n",
    "# Construct a linear model\n",
    "pred = tf.add(tf.multiply(X, W), b)\n",
    "\n",
    "# Mean squared error\n",
    "cost = tf.reduce_sum(tf.pow(pred-Y, 2))/(2*n_samples)\n",
    "# Gradient descent\n",
    "#  Note, minimize() knows to modify W and b because Variable objects are trainable=True by default\n",
    "optimizer = tf.train.GradientDescentOptimizer(learning_rate).minimize(cost)\n",
    "\n",
    "# Initializing the variables\n",
    "init = tf.global_variables_initializer()\n",
    "\n",
    "# Launch the graph\n",
    "with tf.Session() as sess:\n",
    "    sess.run(init)\n",
    "\n",
    "    # Fit all training data\n",
    "    for epoch in range(training_epochs):\n",
    "        for (x, y) in zip(train_X, train_Y):\n",
    "            sess.run(optimizer, feed_dict={X: x, Y: y})\n",
    "\n",
    "        # Display logs per epoch step\n",
    "        if (epoch+1) % display_step == 0:\n",
    "            c = sess.run(cost, feed_dict={X: train_X, Y:train_Y})\n",
    "            print(\"Epoch:\", '%04d' % (epoch+1), \"cost=\", \"{:.9f}\".format(c), \\\n",
    "                \"W=\", sess.run(W), \"b=\", sess.run(b))\n",
    "\n",
    "    print(\"Optimization Finished!\")\n",
    "    training_cost = sess.run(cost, feed_dict={X: train_X, Y: train_Y})\n",
    "    print(\"Training cost=\", training_cost, \"W=\", sess.run(W), \"b=\", sess.run(b), '\\n')\n",
    "\n",
    "    # Graphic display\n",
    "    plt.plot(train_X, train_Y, 'ro', label='Original data')\n",
    "    plt.plot(train_X, sess.run(W) * train_X + sess.run(b), label='Fitted line')\n",
    "    plt.legend()\n",
    "    plt.show()\n",
    "\n",
    "    # Testing example, as requested (Issue #2)\n",
    "    test_X = numpy.asarray([6.83, 4.668, 8.9, 7.91, 5.7, 8.7, 3.1, 2.1])\n",
    "    test_Y = numpy.asarray([1.84, 2.273, 3.2, 2.831, 2.92, 3.24, 1.35, 1.03])\n",
    "\n",
    "    print(\"Testing... (Mean square loss Comparison)\")\n",
    " \n",
    "    testing_cost = sess.run(\n",
    "        tf.reduce_sum(tf.pow(pred - Y, 2)) / (2 * test_X.shape[0]),\n",
    "        feed_dict={X: test_X, Y: test_Y})  # same function as cost above\n",
    "    print(\"Testing cost=\", testing_cost)\n",
    "    print(\"Absolute mean square loss difference:\", abs(\n",
    "        training_cost - testing_cost))\n",
    "\n",
    "    plt.plot(test_X, test_Y, 'bo', label='Testing data')\n",
    "    plt.plot(train_X, sess.run(W) * train_X + sess.run(b), label='Fitted line')\n",
    "    plt.legend()\n",
    "    plt.show()"
   ]
  },
  {
   "cell_type": "code",
   "execution_count": 37,
   "metadata": {},
   "outputs": [
    {
     "name": "stdout",
     "output_type": "stream",
     "text": [
      "[ 1.  4.]\n"
     ]
    }
   ],
   "source": [
    "sess = tf.Session() \n",
    "x = [[1., 1.], [4., 4.]]\n",
    "tf.reduce_mean(x) #==> 1.5\n",
    "tf.reduce_mean(x, 0) #==> [1.5, 1.5]\n",
    "q = tf.reduce_mean(x, 1) #==> [1.,  2.]\n",
    "\n",
    "print(q.eval(session=sess))"
   ]
  },
  {
   "cell_type": "code",
   "execution_count": 38,
   "metadata": {},
   "outputs": [
    {
     "name": "stdout",
     "output_type": "stream",
     "text": [
      "Successfully downloaded train-images-idx3-ubyte.gz 9912422 bytes.\n",
      "Extracting /tmp/data/train-images-idx3-ubyte.gz\n",
      "Successfully downloaded train-labels-idx1-ubyte.gz 28881 bytes.\n",
      "Extracting /tmp/data/train-labels-idx1-ubyte.gz\n",
      "Successfully downloaded t10k-images-idx3-ubyte.gz 1648877 bytes.\n",
      "Extracting /tmp/data/t10k-images-idx3-ubyte.gz\n",
      "Successfully downloaded t10k-labels-idx1-ubyte.gz 4542 bytes.\n",
      "Extracting /tmp/data/t10k-labels-idx1-ubyte.gz\n",
      "Test 0 Prediction: 8 True Class: 8\n",
      "Test 1 Prediction: 1 True Class: 1\n",
      "Test 2 Prediction: 8 True Class: 8\n",
      "Test 3 Prediction: 5 True Class: 5\n",
      "Test 4 Prediction: 3 True Class: 3\n",
      "Test 5 Prediction: 9 True Class: 9\n",
      "Test 6 Prediction: 9 True Class: 9\n",
      "Test 7 Prediction: 4 True Class: 4\n",
      "Test 8 Prediction: 8 True Class: 8\n",
      "Test 9 Prediction: 2 True Class: 2\n",
      "Test 10 Prediction: 9 True Class: 9\n",
      "Test 11 Prediction: 5 True Class: 5\n",
      "Test 12 Prediction: 4 True Class: 4\n",
      "Test 13 Prediction: 3 True Class: 3\n",
      "Test 14 Prediction: 3 True Class: 3\n",
      "Test 15 Prediction: 4 True Class: 4\n",
      "Test 16 Prediction: 3 True Class: 3\n",
      "Test 17 Prediction: 0 True Class: 0\n",
      "Test 18 Prediction: 7 True Class: 7\n",
      "Test 19 Prediction: 5 True Class: 5\n",
      "Test 20 Prediction: 9 True Class: 9\n",
      "Test 21 Prediction: 6 True Class: 6\n",
      "Test 22 Prediction: 2 True Class: 2\n",
      "Test 23 Prediction: 2 True Class: 2\n",
      "Test 24 Prediction: 5 True Class: 5\n",
      "Test 25 Prediction: 9 True Class: 9\n",
      "Test 26 Prediction: 4 True Class: 4\n",
      "Test 27 Prediction: 6 True Class: 6\n",
      "Test 28 Prediction: 8 True Class: 8\n",
      "Test 29 Prediction: 0 True Class: 0\n",
      "Test 30 Prediction: 5 True Class: 2\n",
      "Test 31 Prediction: 9 True Class: 9\n",
      "Test 32 Prediction: 0 True Class: 0\n",
      "Test 33 Prediction: 9 True Class: 9\n",
      "Test 34 Prediction: 6 True Class: 6\n",
      "Test 35 Prediction: 5 True Class: 5\n",
      "Test 36 Prediction: 1 True Class: 1\n",
      "Test 37 Prediction: 3 True Class: 8\n",
      "Test 38 Prediction: 1 True Class: 1\n",
      "Test 39 Prediction: 0 True Class: 0\n",
      "Test 40 Prediction: 0 True Class: 0\n",
      "Test 41 Prediction: 8 True Class: 8\n",
      "Test 42 Prediction: 1 True Class: 1\n",
      "Test 43 Prediction: 6 True Class: 6\n",
      "Test 44 Prediction: 1 True Class: 1\n",
      "Test 45 Prediction: 6 True Class: 6\n",
      "Test 46 Prediction: 0 True Class: 2\n",
      "Test 47 Prediction: 5 True Class: 5\n",
      "Test 48 Prediction: 5 True Class: 5\n",
      "Test 49 Prediction: 0 True Class: 0\n",
      "Test 50 Prediction: 2 True Class: 2\n",
      "Test 51 Prediction: 1 True Class: 1\n",
      "Test 52 Prediction: 1 True Class: 1\n",
      "Test 53 Prediction: 0 True Class: 0\n",
      "Test 54 Prediction: 8 True Class: 8\n",
      "Test 55 Prediction: 2 True Class: 2\n",
      "Test 56 Prediction: 8 True Class: 8\n",
      "Test 57 Prediction: 7 True Class: 7\n",
      "Test 58 Prediction: 8 True Class: 8\n",
      "Test 59 Prediction: 7 True Class: 7\n",
      "Test 60 Prediction: 0 True Class: 0\n",
      "Test 61 Prediction: 1 True Class: 1\n",
      "Test 62 Prediction: 6 True Class: 5\n",
      "Test 63 Prediction: 1 True Class: 1\n",
      "Test 64 Prediction: 3 True Class: 3\n",
      "Test 65 Prediction: 4 True Class: 4\n",
      "Test 66 Prediction: 5 True Class: 5\n",
      "Test 67 Prediction: 0 True Class: 0\n",
      "Test 68 Prediction: 6 True Class: 6\n",
      "Test 69 Prediction: 3 True Class: 3\n",
      "Test 70 Prediction: 6 True Class: 6\n",
      "Test 71 Prediction: 2 True Class: 2\n",
      "Test 72 Prediction: 4 True Class: 4\n",
      "Test 73 Prediction: 0 True Class: 0\n",
      "Test 74 Prediction: 5 True Class: 5\n",
      "Test 75 Prediction: 1 True Class: 1\n",
      "Test 76 Prediction: 3 True Class: 2\n",
      "Test 77 Prediction: 4 True Class: 4\n",
      "Test 78 Prediction: 5 True Class: 5\n",
      "Test 79 Prediction: 5 True Class: 5\n",
      "Test 80 Prediction: 4 True Class: 4\n",
      "Test 81 Prediction: 4 True Class: 4\n",
      "Test 82 Prediction: 0 True Class: 0\n",
      "Test 83 Prediction: 7 True Class: 7\n",
      "Test 84 Prediction: 7 True Class: 9\n",
      "Test 85 Prediction: 6 True Class: 6\n",
      "Test 86 Prediction: 5 True Class: 5\n",
      "Test 87 Prediction: 2 True Class: 2\n",
      "Test 88 Prediction: 0 True Class: 0\n",
      "Test 89 Prediction: 1 True Class: 1\n",
      "Test 90 Prediction: 4 True Class: 2\n",
      "Test 91 Prediction: 2 True Class: 2\n",
      "Test 92 Prediction: 7 True Class: 7\n",
      "Test 93 Prediction: 7 True Class: 7\n",
      "Test 94 Prediction: 5 True Class: 5\n",
      "Test 95 Prediction: 4 True Class: 4\n",
      "Test 96 Prediction: 5 True Class: 5\n",
      "Test 97 Prediction: 4 True Class: 4\n",
      "Test 98 Prediction: 0 True Class: 0\n",
      "Test 99 Prediction: 2 True Class: 2\n",
      "Test 100 Prediction: 5 True Class: 3\n",
      "Test 101 Prediction: 1 True Class: 1\n",
      "Test 102 Prediction: 6 True Class: 6\n",
      "Test 103 Prediction: 1 True Class: 1\n",
      "Test 104 Prediction: 5 True Class: 5\n",
      "Test 105 Prediction: 5 True Class: 3\n",
      "Test 106 Prediction: 5 True Class: 5\n",
      "Test 107 Prediction: 9 True Class: 9\n",
      "Test 108 Prediction: 6 True Class: 6\n",
      "Test 109 Prediction: 2 True Class: 2\n",
      "Test 110 Prediction: 1 True Class: 1\n",
      "Test 111 Prediction: 8 True Class: 8\n",
      "Test 112 Prediction: 8 True Class: 8\n",
      "Test 113 Prediction: 9 True Class: 9\n",
      "Test 114 Prediction: 5 True Class: 5\n",
      "Test 115 Prediction: 2 True Class: 2\n",
      "Test 116 Prediction: 4 True Class: 4\n",
      "Test 117 Prediction: 5 True Class: 5\n",
      "Test 118 Prediction: 6 True Class: 6\n",
      "Test 119 Prediction: 8 True Class: 8\n",
      "Test 120 Prediction: 1 True Class: 1\n",
      "Test 121 Prediction: 9 True Class: 9\n",
      "Test 122 Prediction: 0 True Class: 0\n",
      "Test 123 Prediction: 1 True Class: 1\n",
      "Test 124 Prediction: 3 True Class: 3\n",
      "Test 125 Prediction: 7 True Class: 7\n",
      "Test 126 Prediction: 4 True Class: 4\n",
      "Test 127 Prediction: 6 True Class: 6\n",
      "Test 128 Prediction: 0 True Class: 0\n",
      "Test 129 Prediction: 4 True Class: 4\n",
      "Test 130 Prediction: 8 True Class: 8\n",
      "Test 131 Prediction: 5 True Class: 5\n",
      "Test 132 Prediction: 8 True Class: 8\n",
      "Test 133 Prediction: 1 True Class: 1\n",
      "Test 134 Prediction: 1 True Class: 1\n",
      "Test 135 Prediction: 8 True Class: 8\n",
      "Test 136 Prediction: 8 True Class: 8\n",
      "Test 137 Prediction: 0 True Class: 0\n",
      "Test 138 Prediction: 7 True Class: 7\n",
      "Test 139 Prediction: 8 True Class: 8\n",
      "Test 140 Prediction: 6 True Class: 6\n",
      "Test 141 Prediction: 4 True Class: 4\n",
      "Test 142 Prediction: 4 True Class: 4\n",
      "Test 143 Prediction: 6 True Class: 6\n",
      "Test 144 Prediction: 3 True Class: 3\n",
      "Test 145 Prediction: 8 True Class: 8\n",
      "Test 146 Prediction: 7 True Class: 7\n",
      "Test 147 Prediction: 9 True Class: 9\n",
      "Test 148 Prediction: 2 True Class: 2\n",
      "Test 149 Prediction: 1 True Class: 1\n",
      "Test 150 Prediction: 3 True Class: 3\n",
      "Test 151 Prediction: 9 True Class: 7\n",
      "Test 152 Prediction: 1 True Class: 1\n",
      "Test 153 Prediction: 1 True Class: 1\n",
      "Test 154 Prediction: 9 True Class: 7\n",
      "Test 155 Prediction: 6 True Class: 6\n",
      "Test 156 Prediction: 2 True Class: 2\n",
      "Test 157 Prediction: 8 True Class: 8\n",
      "Test 158 Prediction: 1 True Class: 1\n",
      "Test 159 Prediction: 8 True Class: 8\n",
      "Test 160 Prediction: 7 True Class: 7\n",
      "Test 161 Prediction: 2 True Class: 2\n",
      "Test 162 Prediction: 4 True Class: 4\n",
      "Test 163 Prediction: 2 True Class: 2\n",
      "Test 164 Prediction: 6 True Class: 6\n",
      "Test 165 Prediction: 8 True Class: 8\n",
      "Test 166 Prediction: 5 True Class: 5\n",
      "Test 167 Prediction: 0 True Class: 0\n",
      "Test 168 Prediction: 7 True Class: 7\n",
      "Test 169 Prediction: 5 True Class: 5\n",
      "Test 170 Prediction: 6 True Class: 6\n",
      "Test 171 Prediction: 2 True Class: 2\n",
      "Test 172 Prediction: 7 True Class: 7\n",
      "Test 173 Prediction: 1 True Class: 1\n",
      "Test 174 Prediction: 8 True Class: 8\n",
      "Test 175 Prediction: 7 True Class: 7\n",
      "Test 176 Prediction: 5 True Class: 5\n",
      "Test 177 Prediction: 1 True Class: 1\n",
      "Test 178 Prediction: 6 True Class: 6\n",
      "Test 179 Prediction: 3 True Class: 3\n",
      "Test 180 Prediction: 3 True Class: 3\n",
      "Test 181 Prediction: 1 True Class: 1\n",
      "Test 182 Prediction: 5 True Class: 5\n",
      "Test 183 Prediction: 4 True Class: 4\n",
      "Test 184 Prediction: 6 True Class: 6\n",
      "Test 185 Prediction: 6 True Class: 6\n",
      "Test 186 Prediction: 8 True Class: 8\n",
      "Test 187 Prediction: 5 True Class: 5\n",
      "Test 188 Prediction: 9 True Class: 9\n",
      "Test 189 Prediction: 1 True Class: 1\n",
      "Test 190 Prediction: 9 True Class: 9\n",
      "Test 191 Prediction: 9 True Class: 9\n",
      "Test 192 Prediction: 1 True Class: 1\n",
      "Test 193 Prediction: 2 True Class: 2\n",
      "Test 194 Prediction: 3 True Class: 3\n",
      "Test 195 Prediction: 2 True Class: 2\n",
      "Test 196 Prediction: 3 True Class: 3\n",
      "Test 197 Prediction: 0 True Class: 0\n",
      "Test 198 Prediction: 3 True Class: 3\n",
      "Test 199 Prediction: 7 True Class: 7\n",
      "Done!\n",
      "Accuracy: 0.945\n"
     ]
    }
   ],
   "source": [
    "from __future__ import print_function\n",
    "\n",
    "import numpy as np\n",
    "import tensorflow as tf\n",
    "\n",
    "# Import MNIST data\n",
    "from tensorflow.examples.tutorials.mnist import input_data\n",
    "mnist = input_data.read_data_sets(\"/tmp/data/\", one_hot=True)\n",
    "\n",
    "# In this example, we limit mnist data\n",
    "Xtr, Ytr = mnist.train.next_batch(5000) #5000 for training (nn candidates)\n",
    "Xte, Yte = mnist.test.next_batch(200) #200 for testing\n",
    "\n",
    "# tf Graph Input\n",
    "xtr = tf.placeholder(\"float\", [None, 784])\n",
    "xte = tf.placeholder(\"float\", [784])\n",
    "\n",
    "# Nearest Neighbor calculation using L1 Distance\n",
    "# Calculate L1 Distance\n",
    "distance = tf.reduce_sum(tf.abs(tf.add(xtr, tf.negative(xte))), reduction_indices=1)\n",
    "# Prediction: Get min distance index (Nearest neighbor)\n",
    "pred = tf.arg_min(distance, 0)\n",
    "\n",
    "accuracy = 0.\n",
    "\n",
    "# Initializing the variables\n",
    "init = tf.global_variables_initializer()\n",
    "\n",
    "# Launch the graph\n",
    "with tf.Session() as sess:\n",
    "    sess.run(init)\n",
    "\n",
    "    # loop over test data\n",
    "    for i in range(len(Xte)):\n",
    "        # Get nearest neighbor\n",
    "        nn_index = sess.run(pred, feed_dict={xtr: Xtr, xte: Xte[i, :]})\n",
    "        # Get nearest neighbor class label and compare it to its true label\n",
    "        print(\"Test\", i, \"Prediction:\", np.argmax(Ytr[nn_index]), \\\n",
    "            \"True Class:\", np.argmax(Yte[i]))\n",
    "        # Calculate accuracy\n",
    "        if np.argmax(Ytr[nn_index]) == np.argmax(Yte[i]):\n",
    "            accuracy += 1./len(Xte)\n",
    "    print(\"Done!\")\n",
    "    print(\"Accuracy:\", accuracy)"
   ]
  },
  {
   "cell_type": "code",
   "execution_count": 40,
   "metadata": {},
   "outputs": [
    {
     "name": "stdout",
     "output_type": "stream",
     "text": [
      "Extracting MNIST_data/train-images-idx3-ubyte.gz\n",
      "Extracting MNIST_data/train-labels-idx1-ubyte.gz\n",
      "Extracting MNIST_data/t10k-images-idx3-ubyte.gz\n",
      "Extracting MNIST_data/t10k-labels-idx1-ubyte.gz\n",
      "Epoch: 0001 cost= 0.206190869\n",
      "Epoch: 0002 cost= 0.175334215\n",
      "Epoch: 0003 cost= 0.154837668\n",
      "Epoch: 0004 cost= 0.144388616\n",
      "Epoch: 0005 cost= 0.137720257\n",
      "Epoch: 0006 cost= 0.126068205\n",
      "Epoch: 0007 cost= 0.118379325\n",
      "Epoch: 0008 cost= 0.115986004\n",
      "Epoch: 0009 cost= 0.111941375\n",
      "Epoch: 0010 cost= 0.110486113\n",
      "Epoch: 0011 cost= 0.108325087\n",
      "Epoch: 0012 cost= 0.108702950\n",
      "Epoch: 0013 cost= 0.107774787\n",
      "Epoch: 0014 cost= 0.108424202\n",
      "Epoch: 0015 cost= 0.107303582\n",
      "Epoch: 0016 cost= 0.104797758\n",
      "Epoch: 0017 cost= 0.104668513\n",
      "Epoch: 0018 cost= 0.101659477\n",
      "Epoch: 0019 cost= 0.101614065\n",
      "Epoch: 0020 cost= 0.100921765\n",
      "Optimization Finished!\n"
     ]
    }
   ],
   "source": [
    "from __future__ import division, print_function, absolute_import\n",
    "\n",
    "import tensorflow as tf\n",
    "import numpy as np\n",
    "import matplotlib.pyplot as plt\n",
    "\n",
    "# Import MNIST data\n",
    "from tensorflow.examples.tutorials.mnist import input_data\n",
    "mnist = input_data.read_data_sets(\"MNIST_data\", one_hot=True)\n",
    "\n",
    "# Parameters\n",
    "learning_rate = 0.01\n",
    "training_epochs = 20\n",
    "batch_size = 256\n",
    "display_step = 1\n",
    "examples_to_show = 10\n",
    "\n",
    "# Network Parameters\n",
    "n_hidden_1 = 256 # 1st layer num features\n",
    "n_hidden_2 = 128 # 2nd layer num features\n",
    "n_input = 784 # MNIST data input (img shape: 28*28)\n",
    "\n",
    "# tf Graph input (only pictures)\n",
    "X = tf.placeholder(\"float\", [None, n_input])\n",
    "\n",
    "weights = {\n",
    "    'encoder_h1': tf.Variable(tf.random_normal([n_input, n_hidden_1])),\n",
    "    'encoder_h2': tf.Variable(tf.random_normal([n_hidden_1, n_hidden_2])),\n",
    "    'decoder_h1': tf.Variable(tf.random_normal([n_hidden_2, n_hidden_1])),\n",
    "    'decoder_h2': tf.Variable(tf.random_normal([n_hidden_1, n_input])),\n",
    "}\n",
    "biases = {\n",
    "    'encoder_b1': tf.Variable(tf.random_normal([n_hidden_1])),\n",
    "    'encoder_b2': tf.Variable(tf.random_normal([n_hidden_2])),\n",
    "    'decoder_b1': tf.Variable(tf.random_normal([n_hidden_1])),\n",
    "    'decoder_b2': tf.Variable(tf.random_normal([n_input])),\n",
    "}\n",
    "\n",
    "\n",
    "# Building the encoder\n",
    "def encoder(x):\n",
    "    # Encoder Hidden layer with sigmoid activation #1\n",
    "    layer_1 = tf.nn.sigmoid(tf.add(tf.matmul(x, weights['encoder_h1']),\n",
    "                                   biases['encoder_b1']))\n",
    "    # Decoder Hidden layer with sigmoid activation #2\n",
    "    layer_2 = tf.nn.sigmoid(tf.add(tf.matmul(layer_1, weights['encoder_h2']),\n",
    "                                   biases['encoder_b2']))\n",
    "    return layer_2\n",
    "\n",
    "\n",
    "# Building the decoder\n",
    "def decoder(x):\n",
    "    # Encoder Hidden layer with sigmoid activation #1\n",
    "    layer_1 = tf.nn.sigmoid(tf.add(tf.matmul(x, weights['decoder_h1']),\n",
    "                                   biases['decoder_b1']))\n",
    "    # Decoder Hidden layer with sigmoid activation #2\n",
    "    layer_2 = tf.nn.sigmoid(tf.add(tf.matmul(layer_1, weights['decoder_h2']),\n",
    "                                   biases['decoder_b2']))\n",
    "    return layer_2\n",
    "\n",
    "# Construct model\n",
    "encoder_op = encoder(X)\n",
    "decoder_op = decoder(encoder_op)\n",
    "# Prediction\n",
    "y_pred = decoder_op\n",
    "# Targets (Labels) are the input data.\n",
    "y_true = X\n",
    "\n",
    "# Define loss and optimizer, minimize the squared error\n",
    "\n",
    "cost = tf.reduce_mean(tf.pow(y_true - y_pred, 2))\n",
    "optimizer = tf.train.RMSPropOptimizer(learning_rate).minimize(cost)\n",
    "\n",
    "# Initializing the variables\n",
    "init = tf.global_variables_initializer()\n",
    "\n",
    "# Launch the graph\n",
    "with tf.Session() as sess:\n",
    "    sess.run(init)\n",
    "    total_batch = int(mnist.train.num_examples/batch_size)\n",
    "    # Training cycle\n",
    "    for epoch in range(training_epochs):\n",
    "        # Loop over all batches\n",
    "        for i in range(total_batch):\n",
    "            batch_xs, batch_ys = mnist.train.next_batch(batch_size)\n",
    "            # Run optimization op (backprop) and cost op (to get loss value)\n",
    "            _, c = sess.run([optimizer, cost], feed_dict={X: batch_xs})\n",
    "        # Display logs per epoch step\n",
    "        if epoch % display_step == 0:\n",
    "            print(\"Epoch:\", '%04d' % (epoch+1),\n",
    "                  \"cost=\", \"{:.9f}\".format(c))\n",
    "\n",
    "    print(\"Optimization Finished!\")\n",
    "\n",
    "    # Applying encode and decode over test set\n",
    "    encode_decode = sess.run(\n",
    "        y_pred, feed_dict={X: mnist.test.images[:examples_to_show]})\n",
    "    # Compare original images with their reconstructions\n",
    "    f, a = plt.subplots(2, 10, figsize=(10, 2))\n",
    "    for i in range(examples_to_show):\n",
    "        a[0][i].imshow(np.reshape(mnist.test.images[i], (28, 28)))\n",
    "        a[1][i].imshow(np.reshape(encode_decode[i], (28, 28)))\n",
    "    f.show()\n",
    "    plt.draw()"
   ]
  },
  {
   "cell_type": "code",
   "execution_count": 41,
   "metadata": {},
   "outputs": [
    {
     "data": {
      "image/png": "[encoded data removed]",
      "text/plain": [
       "<IPython.core.display.Image object>"
      ]
     },
     "execution_count": 41,
     "metadata": {},
     "output_type": "execute_result"
    }
   ],
   "source": [
    "from IPython.display import Image\n",
    "Image('7.png')"
   ]
  },
  {
   "cell_type": "code",
   "execution_count": 43,
   "metadata": {},
   "outputs": [],
   "source": [
    "import matplotlib.pyplot as plt\n",
    "import tensorflow as tf\n",
    "import numpy as np\n",
    "from sklearn.metrics import confusion_matrix\n",
    "import time\n",
    "from datetime import timedelta\n",
    "import math\n",
    "import os\n",
    "\n",
    "# Use PrettyTensor to simplify Neural Network construction.\n",
    "import prettytensor as pt"
   ]
  },
  {
   "cell_type": "code",
   "execution_count": 44,
   "metadata": {},
   "outputs": [
    {
     "data": {
      "text/plain": [
       "'1.2.0'"
      ]
     },
     "execution_count": 44,
     "metadata": {},
     "output_type": "execute_result"
    }
   ],
   "source": [
    "tf.__version__\n"
   ]
  },
  {
   "cell_type": "code",
   "execution_count": 45,
   "metadata": {},
   "outputs": [
    {
     "name": "stdout",
     "output_type": "stream",
     "text": [
      "Successfully downloaded train-images-idx3-ubyte.gz 9912422 bytes.\n",
      "Extracting data/MNIST/train-images-idx3-ubyte.gz\n",
      "Successfully downloaded train-labels-idx1-ubyte.gz 28881 bytes.\n",
      "Extracting data/MNIST/train-labels-idx1-ubyte.gz\n",
      "Successfully downloaded t10k-images-idx3-ubyte.gz 1648877 bytes.\n",
      "Extracting data/MNIST/t10k-images-idx3-ubyte.gz\n",
      "Successfully downloaded t10k-labels-idx1-ubyte.gz 4542 bytes.\n",
      "Extracting data/MNIST/t10k-labels-idx1-ubyte.gz\n"
     ]
    }
   ],
   "source": [
    "\n",
    "from tensorflow.examples.tutorials.mnist import input_data\n",
    "data = input_data.read_data_sets('data/MNIST/', one_hot=True)"
   ]
  },
  {
   "cell_type": "code",
   "execution_count": 46,
   "metadata": {},
   "outputs": [
    {
     "name": "stdout",
     "output_type": "stream",
     "text": [
      "Size of:\n",
      "- Training-set:\t\t55000\n",
      "- Test-set:\t\t10000\n",
      "- Validation-set:\t5000\n"
     ]
    }
   ],
   "source": [
    "print(\"Size of:\")\n",
    "print(\"- Training-set:\\t\\t{}\".format(len(data.train.labels)))\n",
    "print(\"- Test-set:\\t\\t{}\".format(len(data.test.labels)))\n",
    "print(\"- Validation-set:\\t{}\".format(len(data.validation.labels)))"
   ]
  },
  {
   "cell_type": "code",
   "execution_count": 47,
   "metadata": {
    "collapsed": true
   },
   "outputs": [],
   "source": [
    "\n",
    "data.test.cls = np.argmax(data.test.labels, axis=1)\n",
    "data.validation.cls = np.argmax(data.validation.labels, axis=1)"
   ]
  },
  {
   "cell_type": "code",
   "execution_count": 48,
   "metadata": {
    "collapsed": true
   },
   "outputs": [],
   "source": [
    "img_size = 28\n",
    "\n",
    "# Images are stored in one-dimensional arrays of this length.\n",
    "img_size_flat = img_size * img_size\n",
    "\n",
    "# Tuple with height and width of images used to reshape arrays.\n",
    "img_shape = (img_size, img_size)\n",
    "\n",
    "# Number of colour channels for the images: 1 channel for gray-scale.\n",
    "num_channels = 1\n",
    "\n",
    "# Number of classes, one class for each of 10 digits.\n",
    "num_classes = 10"
   ]
  },
  {
   "cell_type": "code",
   "execution_count": 49,
   "metadata": {
    "collapsed": true
   },
   "outputs": [],
   "source": [
    "def plot_images(images, cls_true, cls_pred=None):\n",
    "    assert len(images) == len(cls_true) == 9\n",
    "    \n",
    "    # Create figure with 3x3 sub-plots.\n",
    "    fig, axes = plt.subplots(3, 3)\n",
    "    fig.subplots_adjust(hspace=0.3, wspace=0.3)\n",
    "\n",
    "    for i, ax in enumerate(axes.flat):\n",
    "        # Plot image.\n",
    "        ax.imshow(images[i].reshape(img_shape), cmap='binary')\n",
    "\n",
    "        # Show true and predicted classes.\n",
    "        if cls_pred is None:\n",
    "            xlabel = \"True: {0}\".format(cls_true[i])\n",
    "        else:\n",
    "            xlabel = \"True: {0}, Pred: {1}\".format(cls_true[i], cls_pred[i])\n",
    "\n",
    "        # Show the classes as the label on the x-axis.\n",
    "        ax.set_xlabel(xlabel)\n",
    "        \n",
    "        # Remove ticks from the plot.\n",
    "        ax.set_xticks([])\n",
    "        ax.set_yticks([])\n",
    "    \n",
    "    # Ensure the plot is shown correctly with multiple plots\n",
    "    # in a single Notebook cell.\n",
    "    plt.show()"
   ]
  },
  {
   "cell_type": "code",
   "execution_count": 50,
   "metadata": {},
   "outputs": [
    {
     "data": {
      "image/png": "[encoded data removed]",
      "text/plain": [
       "<matplotlib.figure.Figure at 0x7f320b90d310>"
      ]
     },
     "metadata": {},
     "output_type": "display_data"
    },
    {
     "data": {
      "image/png": "[encoded data removed]",
      "text/plain": [
       "<matplotlib.figure.Figure at 0x7f30ada3c750>"
      ]
     },
     "metadata": {},
     "output_type": "display_data"
    },
    {
     "data": {
      "image/png": "[encoded data removed]",
      "text/plain": [
       "<matplotlib.figure.Figure at 0x7f31840abc50>"
      ]
     },
     "metadata": {},
     "output_type": "display_data"
    }
   ],
   "source": [
    "images = data.test.images[0:9]\n",
    "\n",
    "# Get the true classes for those images.\n",
    "cls_true = data.test.cls[0:9]\n",
    "\n",
    "# Plot the images and labels using our helper-function above.\n",
    "plot_images(images=images, cls_true=cls_true)"
   ]
  },
  {
   "cell_type": "code",
   "execution_count": 51,
   "metadata": {
    "collapsed": true
   },
   "outputs": [],
   "source": [
    "x = tf.placeholder(tf.float32, shape=[None, img_size_flat], name='x')"
   ]
  },
  {
   "cell_type": "code",
   "execution_count": 52,
   "metadata": {
    "collapsed": true
   },
   "outputs": [],
   "source": [
    "\n",
    "x_image = tf.reshape(x, [-1, img_size, img_size, num_channels])"
   ]
  },
  {
   "cell_type": "code",
   "execution_count": 53,
   "metadata": {
    "collapsed": true
   },
   "outputs": [],
   "source": [
    "y_true = tf.placeholder(tf.float32, shape=[None, 10], name='y_true')"
   ]
  },
  {
   "cell_type": "code",
   "execution_count": 54,
   "metadata": {
    "collapsed": true
   },
   "outputs": [],
   "source": [
    "y_true_cls = tf.argmax(y_true, dimension=1)"
   ]
  },
  {
   "cell_type": "code",
   "execution_count": 55,
   "metadata": {
    "collapsed": true
   },
   "outputs": [],
   "source": [
    "x_pretty = pt.wrap(x_image)"
   ]
  },
  {
   "cell_type": "code",
   "execution_count": 56,
   "metadata": {
    "collapsed": true
   },
   "outputs": [],
   "source": [
    "with pt.defaults_scope(activation_fn=tf.nn.relu):\n",
    "    y_pred, loss = x_pretty.\\\n",
    "        conv2d(kernel=5, depth=16, name='layer_conv1').\\\n",
    "        max_pool(kernel=2, stride=2).\\\n",
    "        conv2d(kernel=5, depth=36, name='layer_conv2').\\\n",
    "        max_pool(kernel=2, stride=2).\\\n",
    "        flatten().\\\n",
    "        fully_connected(size=128, name='layer_fc1').\\\n",
    "        softmax_classifier(num_classes=num_classes, labels=y_true)"
   ]
  },
  {
   "cell_type": "code",
   "execution_count": 57,
   "metadata": {
    "collapsed": true
   },
   "outputs": [],
   "source": [
    "def get_weights_variable(layer_name):\n",
    "    # Retrieve an existing variable named 'weights' in the scope\n",
    "    # with the given layer_name.\n",
    "    # This is awkward because the TensorFlow function was\n",
    "    # really intended for another purpose.\n",
    "\n",
    "    with tf.variable_scope(layer_name, reuse=True):\n",
    "        variable = tf.get_variable('weights')\n",
    "\n",
    "    return variable"
   ]
  },
  {
   "cell_type": "code",
   "execution_count": 58,
   "metadata": {
    "collapsed": true
   },
   "outputs": [],
   "source": [
    "weights_conv1 = get_weights_variable(layer_name='layer_conv1')\n",
    "weights_conv2 = get_weights_variable(layer_name='layer_conv2')"
   ]
  },
  {
   "cell_type": "code",
   "execution_count": 59,
   "metadata": {
    "collapsed": true
   },
   "outputs": [],
   "source": [
    "optimizer = tf.train.AdamOptimizer(learning_rate=1e-4).minimize(loss)"
   ]
  },
  {
   "cell_type": "code",
   "execution_count": 60,
   "metadata": {},
   "outputs": [
    {
     "ename": "NameError",
     "evalue": "name 'y_pred_cls' is not defined",
     "output_type": "error",
     "traceback": [
      "\u001b[0;31m---------------------------------------------------------------------------\u001b[0m",
      "\u001b[0;31mNameError\u001b[0m                                 Traceback (most recent call last)",
      "\u001b[0;32m<ipython-input-60-b192a0ff829e>\u001b[0m in \u001b[0;36m<module>\u001b[0;34m()\u001b[0m\n\u001b[1;32m      1\u001b[0m \u001b[0;34m\u001b[0m\u001b[0m\n\u001b[0;32m----> 2\u001b[0;31m \u001b[0mcorrect_prediction\u001b[0m \u001b[0;34m=\u001b[0m \u001b[0mtf\u001b[0m\u001b[0;34m.\u001b[0m\u001b[0mequal\u001b[0m\u001b[0;34m(\u001b[0m\u001b[0my_pred_cls\u001b[0m\u001b[0;34m,\u001b[0m \u001b[0my_true_cls\u001b[0m\u001b[0;34m)\u001b[0m\u001b[0;34m\u001b[0m\u001b[0m\n\u001b[0m",
      "\u001b[0;31mNameError\u001b[0m: name 'y_pred_cls' is not defined"
     ]
    }
   ],
   "source": [
    "\n",
    "correct_prediction = tf.equal(y_pred_cls, y_true_cls)"
   ]
  },
  {
   "cell_type": "code",
   "execution_count": 61,
   "metadata": {
    "collapsed": true
   },
   "outputs": [],
   "source": [
    "y_pred_cls = tf.argmax(y_pred, dimension=1)"
   ]
  },
  {
   "cell_type": "code",
   "execution_count": 62,
   "metadata": {
    "collapsed": true
   },
   "outputs": [],
   "source": [
    "correct_prediction = tf.equal(y_pred_cls, y_true_cls)"
   ]
  },
  {
   "cell_type": "code",
   "execution_count": 63,
   "metadata": {
    "collapsed": true
   },
   "outputs": [],
   "source": [
    "accuracy = tf.reduce_mean(tf.cast(correct_prediction, tf.float32))"
   ]
  },
  {
   "cell_type": "code",
   "execution_count": 64,
   "metadata": {
    "collapsed": true
   },
   "outputs": [],
   "source": [
    "saver = tf.train.Saver()"
   ]
  },
  {
   "cell_type": "code",
   "execution_count": 65,
   "metadata": {
    "collapsed": true
   },
   "outputs": [],
   "source": [
    "save_dir = 'checkpoints/'"
   ]
  },
  {
   "cell_type": "code",
   "execution_count": 66,
   "metadata": {
    "collapsed": true
   },
   "outputs": [],
   "source": [
    "if not os.path.exists(save_dir):\n",
    "    os.makedirs(save_dir)"
   ]
  },
  {
   "cell_type": "code",
   "execution_count": 67,
   "metadata": {
    "collapsed": true
   },
   "outputs": [],
   "source": [
    "save_path = os.path.join(save_dir, 'best_validation')"
   ]
  },
  {
   "cell_type": "code",
   "execution_count": 68,
   "metadata": {
    "collapsed": true
   },
   "outputs": [],
   "source": [
    "session = tf.Session()"
   ]
  },
  {
   "cell_type": "code",
   "execution_count": 69,
   "metadata": {
    "collapsed": true
   },
   "outputs": [],
   "source": [
    "def init_variables():\n",
    "    session.run(tf.global_variables_initializer())"
   ]
  },
  {
   "cell_type": "code",
   "execution_count": 70,
   "metadata": {
    "collapsed": true
   },
   "outputs": [],
   "source": [
    "train_batch_size = 64"
   ]
  },
  {
   "cell_type": "code",
   "execution_count": 71,
   "metadata": {
    "collapsed": true
   },
   "outputs": [],
   "source": [
    "# Best validation accuracy seen so far.\n",
    "best_validation_accuracy = 0.0\n",
    "\n",
    "# Iteration-number for last improvement to validation accuracy.\n",
    "last_improvement = 0\n",
    "\n",
    "# Stop optimization if no improvement found in this many iterations.\n",
    "require_improvement = 1000"
   ]
  },
  {
   "cell_type": "code",
   "execution_count": 72,
   "metadata": {
    "collapsed": true
   },
   "outputs": [],
   "source": [
    "total_iterations = 0\n",
    "\n",
    "def optimize(num_iterations):\n",
    "    # Ensure we update the global variables rather than local copies.\n",
    "    global total_iterations\n",
    "    global best_validation_accuracy\n",
    "    global last_improvement\n",
    "\n",
    "    # Start-time used for printing time-usage below.\n",
    "    start_time = time.time()\n",
    "\n",
    "    for i in range(num_iterations):\n",
    "\n",
    "        # Increase the total number of iterations performed.\n",
    "        # It is easier to update it in each iteration because\n",
    "        # we need this number several times in the following.\n",
    "        total_iterations += 1\n",
    "\n",
    "        # Get a batch of training examples.\n",
    "        # x_batch now holds a batch of images and\n",
    "        # y_true_batch are the true labels for those images.\n",
    "        x_batch, y_true_batch = data.train.next_batch(train_batch_size)\n",
    "\n",
    "        # Put the batch into a dict with the proper names\n",
    "        # for placeholder variables in the TensorFlow graph.\n",
    "        feed_dict_train = {x: x_batch,\n",
    "                           y_true: y_true_batch}\n",
    "\n",
    "        # Run the optimizer using this batch of training data.\n",
    "        # TensorFlow assigns the variables in feed_dict_train\n",
    "        # to the placeholder variables and then runs the optimizer.\n",
    "        session.run(optimizer, feed_dict=feed_dict_train)\n",
    "\n",
    "        # Print status every 100 iterations and after last iteration.\n",
    "        if (total_iterations % 100 == 0) or (i == (num_iterations - 1)):\n",
    "\n",
    "            # Calculate the accuracy on the training-batch.\n",
    "            acc_train = session.run(accuracy, feed_dict=feed_dict_train)\n",
    "\n",
    "            # Calculate the accuracy on the validation-set.\n",
    "            # The function returns 2 values but we only need the first.\n",
    "            acc_validation, _ = validation_accuracy()\n",
    "\n",
    "            # If validation accuracy is an improvement over best-known.\n",
    "            if acc_validation > best_validation_accuracy:\n",
    "                # Update the best-known validation accuracy.\n",
    "                best_validation_accuracy = acc_validation\n",
    "                \n",
    "                # Set the iteration for the last improvement to current.\n",
    "                last_improvement = total_iterations\n",
    "\n",
    "                # Save all variables of the TensorFlow graph to file.\n",
    "                saver.save(sess=session, save_path=save_path)\n",
    "\n",
    "                # A string to be printed below, shows improvement found.\n",
    "                improved_str = '*'\n",
    "            else:\n",
    "                # An empty string to be printed below.\n",
    "                # Shows that no improvement was found.\n",
    "                improved_str = ''\n",
    "            \n",
    "            # Status-message for printing.\n",
    "            msg = \"Iter: {0:>6}, Train-Batch Accuracy: {1:>6.1%}, Validation Acc: {2:>6.1%} {3}\"\n",
    "\n",
    "            # Print it.\n",
    "            print(msg.format(i + 1, acc_train, acc_validation, improved_str))\n",
    "\n",
    "        # If no improvement found in the required number of iterations.\n",
    "        if total_iterations - last_improvement > require_improvement:\n",
    "            print(\"No improvement found in a while, stopping optimization.\")\n",
    "\n",
    "            # Break out from the for-loop.\n",
    "            break\n",
    "\n",
    "    # Ending time.\n",
    "    end_time = time.time()\n",
    "\n",
    "    # Difference between start and end-times.\n",
    "    time_dif = end_time - start_time\n",
    "\n",
    "    # Print the time-usage.\n",
    "    print(\"Time usage: \" + str(timedelta(seconds=int(round(time_dif)))))"
   ]
  },
  {
   "cell_type": "code",
   "execution_count": 73,
   "metadata": {
    "collapsed": true
   },
   "outputs": [],
   "source": [
    "def plot_example_errors(cls_pred, correct):\n",
    "    # This function is called from print_test_accuracy() below.\n",
    "\n",
    "    # cls_pred is an array of the predicted class-number for\n",
    "    # all images in the test-set.\n",
    "\n",
    "    # correct is a boolean array whether the predicted class\n",
    "    # is equal to the true class for each image in the test-set.\n",
    "\n",
    "    # Negate the boolean array.\n",
    "    incorrect = (correct == False)\n",
    "    \n",
    "    # Get the images from the test-set that have been\n",
    "    # incorrectly classified.\n",
    "    images = data.test.images[incorrect]\n",
    "    \n",
    "    # Get the predicted classes for those images.\n",
    "    cls_pred = cls_pred[incorrect]\n",
    "\n",
    "    # Get the true classes for those images.\n",
    "    cls_true = data.test.cls[incorrect]\n",
    "    \n",
    "    # Plot the first 9 images.\n",
    "    plot_images(images=images[0:9],\n",
    "                cls_true=cls_true[0:9],\n",
    "                cls_pred=cls_pred[0:9])"
   ]
  },
  {
   "cell_type": "code",
   "execution_count": 74,
   "metadata": {
    "collapsed": true
   },
   "outputs": [],
   "source": [
    "def plot_confusion_matrix(cls_pred):\n",
    "    # This is called from print_test_accuracy() below.\n",
    "\n",
    "    # cls_pred is an array of the predicted class-number for\n",
    "    # all images in the test-set.\n",
    "\n",
    "    # Get the true classifications for the test-set.\n",
    "    cls_true = data.test.cls\n",
    "    \n",
    "    # Get the confusion matrix using sklearn.\n",
    "    cm = confusion_matrix(y_true=cls_true,\n",
    "                          y_pred=cls_pred)\n",
    "\n",
    "    # Print the confusion matrix as text.\n",
    "    print(cm)\n",
    "\n",
    "    # Plot the confusion matrix as an image.\n",
    "    plt.matshow(cm)\n",
    "\n",
    "    # Make various adjustments to the plot.\n",
    "    plt.colorbar()\n",
    "    tick_marks = np.arange(num_classes)\n",
    "    plt.xticks(tick_marks, range(num_classes))\n",
    "    plt.yticks(tick_marks, range(num_classes))\n",
    "    plt.xlabel('Predicted')\n",
    "    plt.ylabel('True')\n",
    "\n",
    "    # Ensure the plot is shown correctly with multiple plots\n",
    "    # in a single Notebook cell.\n",
    "    plt.show()"
   ]
  },
  {
   "cell_type": "code",
   "execution_count": 75,
   "metadata": {
    "collapsed": true
   },
   "outputs": [],
   "source": [
    "# Split the data-set in batches of this size to limit RAM usage.\n",
    "batch_size = 256\n",
    "\n",
    "def predict_cls(images, labels, cls_true):\n",
    "    # Number of images.\n",
    "    num_images = len(images)\n",
    "\n",
    "    # Allocate an array for the predicted classes which\n",
    "    # will be calculated in batches and filled into this array.\n",
    "    cls_pred = np.zeros(shape=num_images, dtype=np.int)\n",
    "\n",
    "    # Now calculate the predicted classes for the batches.\n",
    "    # We will just iterate through all the batches.\n",
    "    # There might be a more clever and Pythonic way of doing this.\n",
    "\n",
    "    # The starting index for the next batch is denoted i.\n",
    "    i = 0\n",
    "\n",
    "    while i < num_images:\n",
    "        # The ending index for the next batch is denoted j.\n",
    "        j = min(i + batch_size, num_images)\n",
    "\n",
    "        # Create a feed-dict with the images and labels\n",
    "        # between index i and j.\n",
    "        feed_dict = {x: images[i:j, :],\n",
    "                     y_true: labels[i:j, :]}\n",
    "\n",
    "        # Calculate the predicted class using TensorFlow.\n",
    "        cls_pred[i:j] = session.run(y_pred_cls, feed_dict=feed_dict)\n",
    "\n",
    "        # Set the start-index for the next batch to the\n",
    "        # end-index of the current batch.\n",
    "        i = j\n",
    "\n",
    "    # Create a boolean array whether each image is correctly classified.\n",
    "    correct = (cls_true == cls_pred)\n",
    "\n",
    "    return correct, cls_pred"
   ]
  },
  {
   "cell_type": "code",
   "execution_count": 76,
   "metadata": {
    "collapsed": true
   },
   "outputs": [],
   "source": [
    "\n",
    "def predict_cls_test():\n",
    "    return predict_cls(images = data.test.images,\n",
    "                       labels = data.test.labels,\n",
    "                       cls_true = data.test.cls)"
   ]
  },
  {
   "cell_type": "code",
   "execution_count": 77,
   "metadata": {
    "collapsed": true
   },
   "outputs": [],
   "source": [
    "\n",
    "def predict_cls_validation():\n",
    "    return predict_cls(images = data.validation.images,\n",
    "                       labels = data.validation.labels,\n",
    "                       cls_true = data.validation.cls)"
   ]
  },
  {
   "cell_type": "code",
   "execution_count": 78,
   "metadata": {
    "collapsed": true
   },
   "outputs": [],
   "source": [
    "\n",
    "def cls_accuracy(correct):\n",
    "    # Calculate the number of correctly classified images.\n",
    "    # When summing a boolean array, False means 0 and True means 1.\n",
    "    correct_sum = correct.sum()\n",
    "\n",
    "    # Classification accuracy is the number of correctly classified\n",
    "    # images divided by the total number of images in the test-set.\n",
    "    acc = float(correct_sum) / len(correct)\n",
    "\n",
    "    return acc, correct_sum"
   ]
  },
  {
   "cell_type": "code",
   "execution_count": 79,
   "metadata": {
    "collapsed": true
   },
   "outputs": [],
   "source": [
    "def validation_accuracy():\n",
    "    # Get the array of booleans whether the classifications are correct\n",
    "    # for the validation-set.\n",
    "    # The function returns two values but we only need the first.\n",
    "    correct, _ = predict_cls_validation()\n",
    "    \n",
    "    # Calculate the classification accuracy and return it.\n",
    "    return cls_accuracy(correct)"
   ]
  },
  {
   "cell_type": "code",
   "execution_count": 80,
   "metadata": {
    "collapsed": true
   },
   "outputs": [],
   "source": [
    "def print_test_accuracy(show_example_errors=False,\n",
    "                        show_confusion_matrix=False):\n",
    "\n",
    "    # For all the images in the test-set,\n",
    "    # calculate the predicted classes and whether they are correct.\n",
    "    correct, cls_pred = predict_cls_test()\n",
    "\n",
    "    # Classification accuracy and the number of correct classifications.\n",
    "    acc, num_correct = cls_accuracy(correct)\n",
    "    \n",
    "    # Number of images being classified.\n",
    "    num_images = len(correct)\n",
    "\n",
    "    # Print the accuracy.\n",
    "    msg = \"Accuracy on Test-Set: {0:.1%} ({1} / {2})\"\n",
    "    print(msg.format(acc, num_correct, num_images))\n",
    "\n",
    "    # Plot some examples of mis-classifications, if desired.\n",
    "    if show_example_errors:\n",
    "        print(\"Example errors:\")\n",
    "        plot_example_errors(cls_pred=cls_pred, correct=correct)\n",
    "\n",
    "    # Plot the confusion matrix, if desired.\n",
    "    if show_confusion_matrix:\n",
    "        print(\"Confusion Matrix:\")\n",
    "        plot_confusion_matrix(cls_pred=cls_pred)"
   ]
  },
  {
   "cell_type": "code",
   "execution_count": 81,
   "metadata": {
    "collapsed": true
   },
   "outputs": [],
   "source": [
    "def plot_conv_weights(weights, input_channel=0):\n",
    "    # Assume weights are TensorFlow ops for 4-dim variables\n",
    "    # e.g. weights_conv1 or weights_conv2.\n",
    "\n",
    "    # Retrieve the values of the weight-variables from TensorFlow.\n",
    "    # A feed-dict is not necessary because nothing is calculated.\n",
    "    w = session.run(weights)\n",
    "\n",
    "    # Print mean and standard deviation.\n",
    "    print(\"Mean: {0:.5f}, Stdev: {1:.5f}\".format(w.mean(), w.std()))\n",
    "    \n",
    "    # Get the lowest and highest values for the weights.\n",
    "    # This is used to correct the colour intensity across\n",
    "    # the images so they can be compared with each other.\n",
    "    w_min = np.min(w)\n",
    "    w_max = np.max(w)\n",
    "\n",
    "    # Number of filters used in the conv. layer.\n",
    "    num_filters = w.shape[3]\n",
    "\n",
    "    # Number of grids to plot.\n",
    "    # Rounded-up, square-root of the number of filters.\n",
    "    num_grids = math.ceil(math.sqrt(num_filters))\n",
    "    \n",
    "    # Create figure with a grid of sub-plots.\n",
    "    fig, axes = plt.subplots(num_grids, num_grids)\n",
    "\n",
    "    # Plot all the filter-weights.\n",
    "    for i, ax in enumerate(axes.flat):\n",
    "        # Only plot the valid filter-weights.\n",
    "        if i<num_filters:\n",
    "            # Get the weights for the i'th filter of the input channel.\n",
    "            # The format of this 4-dim tensor is determined by the\n",
    "            # TensorFlow API. See Tutorial #02 for more details.\n",
    "            img = w[:, :, input_channel, i]\n",
    "\n",
    "            # Plot image.\n",
    "            ax.imshow(img, vmin=w_min, vmax=w_max,\n",
    "                      interpolation='nearest', cmap='seismic')\n",
    "        \n",
    "        # Remove ticks from the plot.\n",
    "        ax.set_xticks([])\n",
    "        ax.set_yticks([])\n",
    "    \n",
    "    # Ensure the plot is shown correctly with multiple plots\n",
    "    # in a single Notebook cell.\n",
    "    plt.show()"
   ]
  },
  {
   "cell_type": "code",
   "execution_count": 82,
   "metadata": {},
   "outputs": [
    {
     "ename": "FailedPreconditionError",
     "evalue": "Attempting to use uninitialized value layer_conv1/weights\n\t [[Node: layer_conv1/weights/read = Identity[T=DT_FLOAT, _class=[\"loc:@layer_conv1/weights\"], _device=\"/job:localhost/replica:0/task:0/gpu:0\"](layer_conv1/weights)]]\n\t [[Node: flatten/reshape/Shape/_3 = _Recv[client_terminated=false, recv_device=\"/job:localhost/replica:0/task:0/cpu:0\", send_device=\"/job:localhost/replica:0/task:0/gpu:0\", send_device_incarnation=1, tensor_name=\"edge_25_flatten/reshape/Shape\", tensor_type=DT_INT32, _device=\"/job:localhost/replica:0/task:0/cpu:0\"]()]]\n\nCaused by op u'layer_conv1/weights/read', defined at:\n  File \"/usr/lib/python2.7/runpy.py\", line 162, in _run_module_as_main\n    \"__main__\", fname, loader, pkg_name)\n  File \"/usr/lib/python2.7/runpy.py\", line 72, in _run_code\n    exec code in run_globals\n  File \"/usr/local/lib/python2.7/dist-packages/ipykernel_launcher.py\", line 16, in <module>\n    app.launch_new_instance()\n  File \"/usr/local/lib/python2.7/dist-packages/traitlets/config/application.py\", line 658, in launch_instance\n    app.start()\n  File \"/usr/local/lib/python2.7/dist-packages/ipykernel/kernelapp.py\", line 477, in start\n    ioloop.IOLoop.instance().start()\n  File \"/usr/lib/python2.7/dist-packages/zmq/eventloop/ioloop.py\", line 160, in start\n    super(ZMQIOLoop, self).start()\n  File \"/usr/local/lib/python2.7/dist-packages/tornado/ioloop.py\", line 888, in start\n    handler_func(fd_obj, events)\n  File \"/usr/local/lib/python2.7/dist-packages/tornado/stack_context.py\", line 277, in null_wrapper\n    return fn(*args, **kwargs)\n  File \"/usr/lib/python2.7/dist-packages/zmq/eventloop/zmqstream.py\", line 433, in _handle_events\n    self._handle_recv()\n  File \"/usr/lib/python2.7/dist-packages/zmq/eventloop/zmqstream.py\", line 465, in _handle_recv\n    self._run_callback(callback, msg)\n  File \"/usr/lib/python2.7/dist-packages/zmq/eventloop/zmqstream.py\", line 407, in _run_callback\n    callback(*args, **kwargs)\n  File \"/usr/local/lib/python2.7/dist-packages/tornado/stack_context.py\", line 277, in null_wrapper\n    return fn(*args, **kwargs)\n  File \"/usr/local/lib/python2.7/dist-packages/ipykernel/kernelbase.py\", line 283, in dispatcher\n    return self.dispatch_shell(stream, msg)\n  File \"/usr/local/lib/python2.7/dist-packages/ipykernel/kernelbase.py\", line 235, in dispatch_shell\n    handler(stream, idents, msg)\n  File \"/usr/local/lib/python2.7/dist-packages/ipykernel/kernelbase.py\", line 399, in execute_request\n    user_expressions, allow_stdin)\n  File \"/usr/local/lib/python2.7/dist-packages/ipykernel/ipkernel.py\", line 196, in do_execute\n    res = shell.run_cell(code, store_history=store_history, silent=silent)\n  File \"/usr/local/lib/python2.7/dist-packages/ipykernel/zmqshell.py\", line 533, in run_cell\n    return super(ZMQInteractiveShell, self).run_cell(*args, **kwargs)\n  File \"/usr/local/lib/python2.7/dist-packages/IPython/core/interactiveshell.py\", line 2718, in run_cell\n    interactivity=interactivity, compiler=compiler, result=result)\n  File \"/usr/local/lib/python2.7/dist-packages/IPython/core/interactiveshell.py\", line 2822, in run_ast_nodes\n    if self.run_code(code, result):\n  File \"/usr/local/lib/python2.7/dist-packages/IPython/core/interactiveshell.py\", line 2882, in run_code\n    exec(code_obj, self.user_global_ns, self.user_ns)\n  File \"<ipython-input-56-ab75212e54e0>\", line 2, in <module>\n    y_pred, loss = x_pretty.        conv2d(kernel=5, depth=16, name='layer_conv1').        max_pool(kernel=2, stride=2).        conv2d(kernel=5, depth=36, name='layer_conv2').        max_pool(kernel=2, stride=2).        flatten().        fully_connected(size=128, name='layer_fc1').        softmax_classifier(num_classes=num_classes, labels=y_true)\n  File \"/usr/local/lib/python2.7/dist-packages/prettytensor/pretty_tensor_class.py\", line 1972, in method\n    result = func(non_seq_layer, *args, **kwargs)\n  File \"/usr/local/lib/python2.7/dist-packages/prettytensor/pretty_tensor_image_methods.py\", line 211, in __call__\n    self.variable('weights', size, weights, dt=dtype),\n  File \"/usr/local/lib/python2.7/dist-packages/prettytensor/pretty_tensor_class.py\", line 1673, in variable\n    collections=variable_collections)\n  File \"/usr/local/lib/python2.7/dist-packages/tensorflow/python/ops/variable_scope.py\", line 1065, in get_variable\n    use_resource=use_resource, custom_getter=custom_getter)\n  File \"/usr/local/lib/python2.7/dist-packages/tensorflow/python/ops/variable_scope.py\", line 962, in get_variable\n    use_resource=use_resource, custom_getter=custom_getter)\n  File \"/usr/local/lib/python2.7/dist-packages/tensorflow/python/ops/variable_scope.py\", line 367, in get_variable\n    validate_shape=validate_shape, use_resource=use_resource)\n  File \"/usr/local/lib/python2.7/dist-packages/tensorflow/python/ops/variable_scope.py\", line 352, in _true_getter\n    use_resource=use_resource)\n  File \"/usr/local/lib/python2.7/dist-packages/tensorflow/python/ops/variable_scope.py\", line 725, in _get_single_variable\n    validate_shape=validate_shape)\n  File \"/usr/local/lib/python2.7/dist-packages/tensorflow/python/ops/variables.py\", line 200, in __init__\n    expected_shape=expected_shape)\n  File \"/usr/local/lib/python2.7/dist-packages/tensorflow/python/ops/variables.py\", line 319, in _init_from_args\n    self._snapshot = array_ops.identity(self._variable, name=\"read\")\n  File \"/usr/local/lib/python2.7/dist-packages/tensorflow/python/ops/gen_array_ops.py\", line 1303, in identity\n    result = _op_def_lib.apply_op(\"Identity\", input=input, name=name)\n  File \"/usr/local/lib/python2.7/dist-packages/tensorflow/python/framework/op_def_library.py\", line 767, in apply_op\n    op_def=op_def)\n  File \"/usr/local/lib/python2.7/dist-packages/tensorflow/python/framework/ops.py\", line 2506, in create_op\n    original_op=self._default_original_op, op_def=op_def)\n  File \"/usr/local/lib/python2.7/dist-packages/tensorflow/python/framework/ops.py\", line 1269, in __init__\n    self._traceback = _extract_stack()\n\nFailedPreconditionError (see above for traceback): Attempting to use uninitialized value layer_conv1/weights\n\t [[Node: layer_conv1/weights/read = Identity[T=DT_FLOAT, _class=[\"loc:@layer_conv1/weights\"], _device=\"/job:localhost/replica:0/task:0/gpu:0\"](layer_conv1/weights)]]\n\t [[Node: flatten/reshape/Shape/_3 = _Recv[client_terminated=false, recv_device=\"/job:localhost/replica:0/task:0/cpu:0\", send_device=\"/job:localhost/replica:0/task:0/gpu:0\", send_device_incarnation=1, tensor_name=\"edge_25_flatten/reshape/Shape\", tensor_type=DT_INT32, _device=\"/job:localhost/replica:0/task:0/cpu:0\"]()]]\n",
     "output_type": "error",
     "traceback": [
      "\u001b[0;31m---------------------------------------------------------------------------\u001b[0m",
      "\u001b[0;31mFailedPreconditionError\u001b[0m                   Traceback (most recent call last)",
      "\u001b[0;32m<ipython-input-82-f148a7c94917>\u001b[0m in \u001b[0;36m<module>\u001b[0;34m()\u001b[0m\n\u001b[0;32m----> 1\u001b[0;31m \u001b[0mprint_test_accuracy\u001b[0m\u001b[0;34m(\u001b[0m\u001b[0;34m)\u001b[0m\u001b[0;34m\u001b[0m\u001b[0m\n\u001b[0m",
      "\u001b[0;32m<ipython-input-80-505514fe2ead>\u001b[0m in \u001b[0;36mprint_test_accuracy\u001b[0;34m(show_example_errors, show_confusion_matrix)\u001b[0m\n\u001b[1;32m      4\u001b[0m     \u001b[0;31m# For all the images in the test-set,\u001b[0m\u001b[0;34m\u001b[0m\u001b[0;34m\u001b[0m\u001b[0m\n\u001b[1;32m      5\u001b[0m     \u001b[0;31m# calculate the predicted classes and whether they are correct.\u001b[0m\u001b[0;34m\u001b[0m\u001b[0;34m\u001b[0m\u001b[0m\n\u001b[0;32m----> 6\u001b[0;31m     \u001b[0mcorrect\u001b[0m\u001b[0;34m,\u001b[0m \u001b[0mcls_pred\u001b[0m \u001b[0;34m=\u001b[0m \u001b[0mpredict_cls_test\u001b[0m\u001b[0;34m(\u001b[0m\u001b[0;34m)\u001b[0m\u001b[0;34m\u001b[0m\u001b[0m\n\u001b[0m\u001b[1;32m      7\u001b[0m \u001b[0;34m\u001b[0m\u001b[0m\n\u001b[1;32m      8\u001b[0m     \u001b[0;31m# Classification accuracy and the number of correct classifications.\u001b[0m\u001b[0;34m\u001b[0m\u001b[0;34m\u001b[0m\u001b[0m\n",
      "\u001b[0;32m<ipython-input-76-7a6c47520e62>\u001b[0m in \u001b[0;36mpredict_cls_test\u001b[0;34m()\u001b[0m\n\u001b[1;32m      3\u001b[0m     return predict_cls(images = data.test.images,\n\u001b[1;32m      4\u001b[0m                        \u001b[0mlabels\u001b[0m \u001b[0;34m=\u001b[0m \u001b[0mdata\u001b[0m\u001b[0;34m.\u001b[0m\u001b[0mtest\u001b[0m\u001b[0;34m.\u001b[0m\u001b[0mlabels\u001b[0m\u001b[0;34m,\u001b[0m\u001b[0;34m\u001b[0m\u001b[0m\n\u001b[0;32m----> 5\u001b[0;31m                        cls_true = data.test.cls)\n\u001b[0m",
      "\u001b[0;32m<ipython-input-75-572c25b2c678>\u001b[0m in \u001b[0;36mpredict_cls\u001b[0;34m(images, labels, cls_true)\u001b[0m\n\u001b[1;32m     27\u001b[0m \u001b[0;34m\u001b[0m\u001b[0m\n\u001b[1;32m     28\u001b[0m         \u001b[0;31m# Calculate the predicted class using TensorFlow.\u001b[0m\u001b[0;34m\u001b[0m\u001b[0;34m\u001b[0m\u001b[0m\n\u001b[0;32m---> 29\u001b[0;31m         \u001b[0mcls_pred\u001b[0m\u001b[0;34m[\u001b[0m\u001b[0mi\u001b[0m\u001b[0;34m:\u001b[0m\u001b[0mj\u001b[0m\u001b[0;34m]\u001b[0m \u001b[0;34m=\u001b[0m \u001b[0msession\u001b[0m\u001b[0;34m.\u001b[0m\u001b[0mrun\u001b[0m\u001b[0;34m(\u001b[0m\u001b[0my_pred_cls\u001b[0m\u001b[0;34m,\u001b[0m \u001b[0mfeed_dict\u001b[0m\u001b[0;34m=\u001b[0m\u001b[0mfeed_dict\u001b[0m\u001b[0;34m)\u001b[0m\u001b[0;34m\u001b[0m\u001b[0m\n\u001b[0m\u001b[1;32m     30\u001b[0m \u001b[0;34m\u001b[0m\u001b[0m\n\u001b[1;32m     31\u001b[0m         \u001b[0;31m# Set the start-index for the next batch to the\u001b[0m\u001b[0;34m\u001b[0m\u001b[0;34m\u001b[0m\u001b[0m\n",
      "\u001b[0;32m/usr/local/lib/python2.7/dist-packages/tensorflow/python/client/session.pyc\u001b[0m in \u001b[0;36mrun\u001b[0;34m(self, fetches, feed_dict, options, run_metadata)\u001b[0m\n\u001b[1;32m    787\u001b[0m     \u001b[0;32mtry\u001b[0m\u001b[0;34m:\u001b[0m\u001b[0;34m\u001b[0m\u001b[0m\n\u001b[1;32m    788\u001b[0m       result = self._run(None, fetches, feed_dict, options_ptr,\n\u001b[0;32m--> 789\u001b[0;31m                          run_metadata_ptr)\n\u001b[0m\u001b[1;32m    790\u001b[0m       \u001b[0;32mif\u001b[0m \u001b[0mrun_metadata\u001b[0m\u001b[0;34m:\u001b[0m\u001b[0;34m\u001b[0m\u001b[0m\n\u001b[1;32m    791\u001b[0m         \u001b[0mproto_data\u001b[0m \u001b[0;34m=\u001b[0m \u001b[0mtf_session\u001b[0m\u001b[0;34m.\u001b[0m\u001b[0mTF_GetBuffer\u001b[0m\u001b[0;34m(\u001b[0m\u001b[0mrun_metadata_ptr\u001b[0m\u001b[0;34m)\u001b[0m\u001b[0;34m\u001b[0m\u001b[0m\n",
      "\u001b[0;32m/usr/local/lib/python2.7/dist-packages/tensorflow/python/client/session.pyc\u001b[0m in \u001b[0;36m_run\u001b[0;34m(self, handle, fetches, feed_dict, options, run_metadata)\u001b[0m\n\u001b[1;32m    995\u001b[0m     \u001b[0;32mif\u001b[0m \u001b[0mfinal_fetches\u001b[0m \u001b[0;32mor\u001b[0m \u001b[0mfinal_targets\u001b[0m\u001b[0;34m:\u001b[0m\u001b[0;34m\u001b[0m\u001b[0m\n\u001b[1;32m    996\u001b[0m       results = self._do_run(handle, final_targets, final_fetches,\n\u001b[0;32m--> 997\u001b[0;31m                              feed_dict_string, options, run_metadata)\n\u001b[0m\u001b[1;32m    998\u001b[0m     \u001b[0;32melse\u001b[0m\u001b[0;34m:\u001b[0m\u001b[0;34m\u001b[0m\u001b[0m\n\u001b[1;32m    999\u001b[0m       \u001b[0mresults\u001b[0m \u001b[0;34m=\u001b[0m \u001b[0;34m[\u001b[0m\u001b[0;34m]\u001b[0m\u001b[0;34m\u001b[0m\u001b[0m\n",
      "\u001b[0;32m/usr/local/lib/python2.7/dist-packages/tensorflow/python/client/session.pyc\u001b[0m in \u001b[0;36m_do_run\u001b[0;34m(self, handle, target_list, fetch_list, feed_dict, options, run_metadata)\u001b[0m\n\u001b[1;32m   1130\u001b[0m     \u001b[0;32mif\u001b[0m \u001b[0mhandle\u001b[0m \u001b[0;32mis\u001b[0m \u001b[0mNone\u001b[0m\u001b[0;34m:\u001b[0m\u001b[0;34m\u001b[0m\u001b[0m\n\u001b[1;32m   1131\u001b[0m       return self._do_call(_run_fn, self._session, feed_dict, fetch_list,\n\u001b[0;32m-> 1132\u001b[0;31m                            target_list, options, run_metadata)\n\u001b[0m\u001b[1;32m   1133\u001b[0m     \u001b[0;32melse\u001b[0m\u001b[0;34m:\u001b[0m\u001b[0;34m\u001b[0m\u001b[0m\n\u001b[1;32m   1134\u001b[0m       return self._do_call(_prun_fn, self._session, handle, feed_dict,\n",
      "\u001b[0;32m/usr/local/lib/python2.7/dist-packages/tensorflow/python/client/session.pyc\u001b[0m in \u001b[0;36m_do_call\u001b[0;34m(self, fn, *args)\u001b[0m\n\u001b[1;32m   1150\u001b[0m         \u001b[0;32mexcept\u001b[0m \u001b[0mKeyError\u001b[0m\u001b[0;34m:\u001b[0m\u001b[0;34m\u001b[0m\u001b[0m\n\u001b[1;32m   1151\u001b[0m           \u001b[0;32mpass\u001b[0m\u001b[0;34m\u001b[0m\u001b[0m\n\u001b[0;32m-> 1152\u001b[0;31m       \u001b[0;32mraise\u001b[0m \u001b[0mtype\u001b[0m\u001b[0;34m(\u001b[0m\u001b[0me\u001b[0m\u001b[0;34m)\u001b[0m\u001b[0;34m(\u001b[0m\u001b[0mnode_def\u001b[0m\u001b[0;34m,\u001b[0m \u001b[0mop\u001b[0m\u001b[0;34m,\u001b[0m \u001b[0mmessage\u001b[0m\u001b[0;34m)\u001b[0m\u001b[0;34m\u001b[0m\u001b[0m\n\u001b[0m\u001b[1;32m   1153\u001b[0m \u001b[0;34m\u001b[0m\u001b[0m\n\u001b[1;32m   1154\u001b[0m   \u001b[0;32mdef\u001b[0m \u001b[0m_extend_graph\u001b[0m\u001b[0;34m(\u001b[0m\u001b[0mself\u001b[0m\u001b[0;34m)\u001b[0m\u001b[0;34m:\u001b[0m\u001b[0;34m\u001b[0m\u001b[0m\n",
      "\u001b[0;31mFailedPreconditionError\u001b[0m: Attempting to use uninitialized value layer_conv1/weights\n\t [[Node: layer_conv1/weights/read = Identity[T=DT_FLOAT, _class=[\"loc:@layer_conv1/weights\"], _device=\"/job:localhost/replica:0/task:0/gpu:0\"](layer_conv1/weights)]]\n\t [[Node: flatten/reshape/Shape/_3 = _Recv[client_terminated=false, recv_device=\"/job:localhost/replica:0/task:0/cpu:0\", send_device=\"/job:localhost/replica:0/task:0/gpu:0\", send_device_incarnation=1, tensor_name=\"edge_25_flatten/reshape/Shape\", tensor_type=DT_INT32, _device=\"/job:localhost/replica:0/task:0/cpu:0\"]()]]\n\nCaused by op u'layer_conv1/weights/read', defined at:\n  File \"/usr/lib/python2.7/runpy.py\", line 162, in _run_module_as_main\n    \"__main__\", fname, loader, pkg_name)\n  File \"/usr/lib/python2.7/runpy.py\", line 72, in _run_code\n    exec code in run_globals\n  File \"/usr/local/lib/python2.7/dist-packages/ipykernel_launcher.py\", line 16, in <module>\n    app.launch_new_instance()\n  File \"/usr/local/lib/python2.7/dist-packages/traitlets/config/application.py\", line 658, in launch_instance\n    app.start()\n  File \"/usr/local/lib/python2.7/dist-packages/ipykernel/kernelapp.py\", line 477, in start\n    ioloop.IOLoop.instance().start()\n  File \"/usr/lib/python2.7/dist-packages/zmq/eventloop/ioloop.py\", line 160, in start\n    super(ZMQIOLoop, self).start()\n  File \"/usr/local/lib/python2.7/dist-packages/tornado/ioloop.py\", line 888, in start\n    handler_func(fd_obj, events)\n  File \"/usr/local/lib/python2.7/dist-packages/tornado/stack_context.py\", line 277, in null_wrapper\n    return fn(*args, **kwargs)\n  File \"/usr/lib/python2.7/dist-packages/zmq/eventloop/zmqstream.py\", line 433, in _handle_events\n    self._handle_recv()\n  File \"/usr/lib/python2.7/dist-packages/zmq/eventloop/zmqstream.py\", line 465, in _handle_recv\n    self._run_callback(callback, msg)\n  File \"/usr/lib/python2.7/dist-packages/zmq/eventloop/zmqstream.py\", line 407, in _run_callback\n    callback(*args, **kwargs)\n  File \"/usr/local/lib/python2.7/dist-packages/tornado/stack_context.py\", line 277, in null_wrapper\n    return fn(*args, **kwargs)\n  File \"/usr/local/lib/python2.7/dist-packages/ipykernel/kernelbase.py\", line 283, in dispatcher\n    return self.dispatch_shell(stream, msg)\n  File \"/usr/local/lib/python2.7/dist-packages/ipykernel/kernelbase.py\", line 235, in dispatch_shell\n    handler(stream, idents, msg)\n  File \"/usr/local/lib/python2.7/dist-packages/ipykernel/kernelbase.py\", line 399, in execute_request\n    user_expressions, allow_stdin)\n  File \"/usr/local/lib/python2.7/dist-packages/ipykernel/ipkernel.py\", line 196, in do_execute\n    res = shell.run_cell(code, store_history=store_history, silent=silent)\n  File \"/usr/local/lib/python2.7/dist-packages/ipykernel/zmqshell.py\", line 533, in run_cell\n    return super(ZMQInteractiveShell, self).run_cell(*args, **kwargs)\n  File \"/usr/local/lib/python2.7/dist-packages/IPython/core/interactiveshell.py\", line 2718, in run_cell\n    interactivity=interactivity, compiler=compiler, result=result)\n  File \"/usr/local/lib/python2.7/dist-packages/IPython/core/interactiveshell.py\", line 2822, in run_ast_nodes\n    if self.run_code(code, result):\n  File \"/usr/local/lib/python2.7/dist-packages/IPython/core/interactiveshell.py\", line 2882, in run_code\n    exec(code_obj, self.user_global_ns, self.user_ns)\n  File \"<ipython-input-56-ab75212e54e0>\", line 2, in <module>\n    y_pred, loss = x_pretty.        conv2d(kernel=5, depth=16, name='layer_conv1').        max_pool(kernel=2, stride=2).        conv2d(kernel=5, depth=36, name='layer_conv2').        max_pool(kernel=2, stride=2).        flatten().        fully_connected(size=128, name='layer_fc1').        softmax_classifier(num_classes=num_classes, labels=y_true)\n  File \"/usr/local/lib/python2.7/dist-packages/prettytensor/pretty_tensor_class.py\", line 1972, in method\n    result = func(non_seq_layer, *args, **kwargs)\n  File \"/usr/local/lib/python2.7/dist-packages/prettytensor/pretty_tensor_image_methods.py\", line 211, in __call__\n    self.variable('weights', size, weights, dt=dtype),\n  File \"/usr/local/lib/python2.7/dist-packages/prettytensor/pretty_tensor_class.py\", line 1673, in variable\n    collections=variable_collections)\n  File \"/usr/local/lib/python2.7/dist-packages/tensorflow/python/ops/variable_scope.py\", line 1065, in get_variable\n    use_resource=use_resource, custom_getter=custom_getter)\n  File \"/usr/local/lib/python2.7/dist-packages/tensorflow/python/ops/variable_scope.py\", line 962, in get_variable\n    use_resource=use_resource, custom_getter=custom_getter)\n  File \"/usr/local/lib/python2.7/dist-packages/tensorflow/python/ops/variable_scope.py\", line 367, in get_variable\n    validate_shape=validate_shape, use_resource=use_resource)\n  File \"/usr/local/lib/python2.7/dist-packages/tensorflow/python/ops/variable_scope.py\", line 352, in _true_getter\n    use_resource=use_resource)\n  File \"/usr/local/lib/python2.7/dist-packages/tensorflow/python/ops/variable_scope.py\", line 725, in _get_single_variable\n    validate_shape=validate_shape)\n  File \"/usr/local/lib/python2.7/dist-packages/tensorflow/python/ops/variables.py\", line 200, in __init__\n    expected_shape=expected_shape)\n  File \"/usr/local/lib/python2.7/dist-packages/tensorflow/python/ops/variables.py\", line 319, in _init_from_args\n    self._snapshot = array_ops.identity(self._variable, name=\"read\")\n  File \"/usr/local/lib/python2.7/dist-packages/tensorflow/python/ops/gen_array_ops.py\", line 1303, in identity\n    result = _op_def_lib.apply_op(\"Identity\", input=input, name=name)\n  File \"/usr/local/lib/python2.7/dist-packages/tensorflow/python/framework/op_def_library.py\", line 767, in apply_op\n    op_def=op_def)\n  File \"/usr/local/lib/python2.7/dist-packages/tensorflow/python/framework/ops.py\", line 2506, in create_op\n    original_op=self._default_original_op, op_def=op_def)\n  File \"/usr/local/lib/python2.7/dist-packages/tensorflow/python/framework/ops.py\", line 1269, in __init__\n    self._traceback = _extract_stack()\n\nFailedPreconditionError (see above for traceback): Attempting to use uninitialized value layer_conv1/weights\n\t [[Node: layer_conv1/weights/read = Identity[T=DT_FLOAT, _class=[\"loc:@layer_conv1/weights\"], _device=\"/job:localhost/replica:0/task:0/gpu:0\"](layer_conv1/weights)]]\n\t [[Node: flatten/reshape/Shape/_3 = _Recv[client_terminated=false, recv_device=\"/job:localhost/replica:0/task:0/cpu:0\", send_device=\"/job:localhost/replica:0/task:0/gpu:0\", send_device_incarnation=1, tensor_name=\"edge_25_flatten/reshape/Shape\", tensor_type=DT_INT32, _device=\"/job:localhost/replica:0/task:0/cpu:0\"]()]]\n"
     ]
    }
   ],
   "source": [
    "print_test_accuracy()"
   ]
  },
  {
   "cell_type": "code",
   "execution_count": 83,
   "metadata": {},
   "outputs": [
    {
     "ename": "FailedPreconditionError",
     "evalue": "Attempting to use uninitialized value layer_conv1/weights\n\t [[Node: layer_conv1/weights/_8 = _Send[T=DT_FLOAT, client_terminated=false, recv_device=\"/job:localhost/replica:0/task:0/cpu:0\", send_device=\"/job:localhost/replica:0/task:0/gpu:0\", send_device_incarnation=1, tensor_name=\"edge_4_layer_conv1/weights\", _device=\"/job:localhost/replica:0/task:0/gpu:0\"](layer_conv1/weights)]]\n\t [[Node: layer_conv1/weights/_9 = _Recv[_start_time=0, client_terminated=false, recv_device=\"/job:localhost/replica:0/task:0/cpu:0\", send_device=\"/job:localhost/replica:0/task:0/gpu:0\", send_device_incarnation=1, tensor_name=\"edge_4_layer_conv1/weights\", tensor_type=DT_FLOAT, _device=\"/job:localhost/replica:0/task:0/cpu:0\"]()]]",
     "output_type": "error",
     "traceback": [
      "\u001b[0;31m---------------------------------------------------------------------------\u001b[0m",
      "\u001b[0;31mFailedPreconditionError\u001b[0m                   Traceback (most recent call last)",
      "\u001b[0;32m<ipython-input-83-dbad5c764354>\u001b[0m in \u001b[0;36m<module>\u001b[0;34m()\u001b[0m\n\u001b[0;32m----> 1\u001b[0;31m \u001b[0mplot_conv_weights\u001b[0m\u001b[0;34m(\u001b[0m\u001b[0mweights\u001b[0m\u001b[0;34m=\u001b[0m\u001b[0mweights_conv1\u001b[0m\u001b[0;34m)\u001b[0m\u001b[0;34m\u001b[0m\u001b[0m\n\u001b[0m",
      "\u001b[0;32m<ipython-input-81-3b3bd6b594bd>\u001b[0m in \u001b[0;36mplot_conv_weights\u001b[0;34m(weights, input_channel)\u001b[0m\n\u001b[1;32m      5\u001b[0m     \u001b[0;31m# Retrieve the values of the weight-variables from TensorFlow.\u001b[0m\u001b[0;34m\u001b[0m\u001b[0;34m\u001b[0m\u001b[0m\n\u001b[1;32m      6\u001b[0m     \u001b[0;31m# A feed-dict is not necessary because nothing is calculated.\u001b[0m\u001b[0;34m\u001b[0m\u001b[0;34m\u001b[0m\u001b[0m\n\u001b[0;32m----> 7\u001b[0;31m     \u001b[0mw\u001b[0m \u001b[0;34m=\u001b[0m \u001b[0msession\u001b[0m\u001b[0;34m.\u001b[0m\u001b[0mrun\u001b[0m\u001b[0;34m(\u001b[0m\u001b[0mweights\u001b[0m\u001b[0;34m)\u001b[0m\u001b[0;34m\u001b[0m\u001b[0m\n\u001b[0m\u001b[1;32m      8\u001b[0m \u001b[0;34m\u001b[0m\u001b[0m\n\u001b[1;32m      9\u001b[0m     \u001b[0;31m# Print mean and standard deviation.\u001b[0m\u001b[0;34m\u001b[0m\u001b[0;34m\u001b[0m\u001b[0m\n",
      "\u001b[0;32m/usr/local/lib/python2.7/dist-packages/tensorflow/python/client/session.pyc\u001b[0m in \u001b[0;36mrun\u001b[0;34m(self, fetches, feed_dict, options, run_metadata)\u001b[0m\n\u001b[1;32m    787\u001b[0m     \u001b[0;32mtry\u001b[0m\u001b[0;34m:\u001b[0m\u001b[0;34m\u001b[0m\u001b[0m\n\u001b[1;32m    788\u001b[0m       result = self._run(None, fetches, feed_dict, options_ptr,\n\u001b[0;32m--> 789\u001b[0;31m                          run_metadata_ptr)\n\u001b[0m\u001b[1;32m    790\u001b[0m       \u001b[0;32mif\u001b[0m \u001b[0mrun_metadata\u001b[0m\u001b[0;34m:\u001b[0m\u001b[0;34m\u001b[0m\u001b[0m\n\u001b[1;32m    791\u001b[0m         \u001b[0mproto_data\u001b[0m \u001b[0;34m=\u001b[0m \u001b[0mtf_session\u001b[0m\u001b[0;34m.\u001b[0m\u001b[0mTF_GetBuffer\u001b[0m\u001b[0;34m(\u001b[0m\u001b[0mrun_metadata_ptr\u001b[0m\u001b[0;34m)\u001b[0m\u001b[0;34m\u001b[0m\u001b[0m\n",
      "\u001b[0;32m/usr/local/lib/python2.7/dist-packages/tensorflow/python/client/session.pyc\u001b[0m in \u001b[0;36m_run\u001b[0;34m(self, handle, fetches, feed_dict, options, run_metadata)\u001b[0m\n\u001b[1;32m    995\u001b[0m     \u001b[0;32mif\u001b[0m \u001b[0mfinal_fetches\u001b[0m \u001b[0;32mor\u001b[0m \u001b[0mfinal_targets\u001b[0m\u001b[0;34m:\u001b[0m\u001b[0;34m\u001b[0m\u001b[0m\n\u001b[1;32m    996\u001b[0m       results = self._do_run(handle, final_targets, final_fetches,\n\u001b[0;32m--> 997\u001b[0;31m                              feed_dict_string, options, run_metadata)\n\u001b[0m\u001b[1;32m    998\u001b[0m     \u001b[0;32melse\u001b[0m\u001b[0;34m:\u001b[0m\u001b[0;34m\u001b[0m\u001b[0m\n\u001b[1;32m    999\u001b[0m       \u001b[0mresults\u001b[0m \u001b[0;34m=\u001b[0m \u001b[0;34m[\u001b[0m\u001b[0;34m]\u001b[0m\u001b[0;34m\u001b[0m\u001b[0m\n",
      "\u001b[0;32m/usr/local/lib/python2.7/dist-packages/tensorflow/python/client/session.pyc\u001b[0m in \u001b[0;36m_do_run\u001b[0;34m(self, handle, target_list, fetch_list, feed_dict, options, run_metadata)\u001b[0m\n\u001b[1;32m   1130\u001b[0m     \u001b[0;32mif\u001b[0m \u001b[0mhandle\u001b[0m \u001b[0;32mis\u001b[0m \u001b[0mNone\u001b[0m\u001b[0;34m:\u001b[0m\u001b[0;34m\u001b[0m\u001b[0m\n\u001b[1;32m   1131\u001b[0m       return self._do_call(_run_fn, self._session, feed_dict, fetch_list,\n\u001b[0;32m-> 1132\u001b[0;31m                            target_list, options, run_metadata)\n\u001b[0m\u001b[1;32m   1133\u001b[0m     \u001b[0;32melse\u001b[0m\u001b[0;34m:\u001b[0m\u001b[0;34m\u001b[0m\u001b[0m\n\u001b[1;32m   1134\u001b[0m       return self._do_call(_prun_fn, self._session, handle, feed_dict,\n",
      "\u001b[0;32m/usr/local/lib/python2.7/dist-packages/tensorflow/python/client/session.pyc\u001b[0m in \u001b[0;36m_do_call\u001b[0;34m(self, fn, *args)\u001b[0m\n\u001b[1;32m   1150\u001b[0m         \u001b[0;32mexcept\u001b[0m \u001b[0mKeyError\u001b[0m\u001b[0;34m:\u001b[0m\u001b[0;34m\u001b[0m\u001b[0m\n\u001b[1;32m   1151\u001b[0m           \u001b[0;32mpass\u001b[0m\u001b[0;34m\u001b[0m\u001b[0m\n\u001b[0;32m-> 1152\u001b[0;31m       \u001b[0;32mraise\u001b[0m \u001b[0mtype\u001b[0m\u001b[0;34m(\u001b[0m\u001b[0me\u001b[0m\u001b[0;34m)\u001b[0m\u001b[0;34m(\u001b[0m\u001b[0mnode_def\u001b[0m\u001b[0;34m,\u001b[0m \u001b[0mop\u001b[0m\u001b[0;34m,\u001b[0m \u001b[0mmessage\u001b[0m\u001b[0;34m)\u001b[0m\u001b[0;34m\u001b[0m\u001b[0m\n\u001b[0m\u001b[1;32m   1153\u001b[0m \u001b[0;34m\u001b[0m\u001b[0m\n\u001b[1;32m   1154\u001b[0m   \u001b[0;32mdef\u001b[0m \u001b[0m_extend_graph\u001b[0m\u001b[0;34m(\u001b[0m\u001b[0mself\u001b[0m\u001b[0;34m)\u001b[0m\u001b[0;34m:\u001b[0m\u001b[0;34m\u001b[0m\u001b[0m\n",
      "\u001b[0;31mFailedPreconditionError\u001b[0m: Attempting to use uninitialized value layer_conv1/weights\n\t [[Node: layer_conv1/weights/_8 = _Send[T=DT_FLOAT, client_terminated=false, recv_device=\"/job:localhost/replica:0/task:0/cpu:0\", send_device=\"/job:localhost/replica:0/task:0/gpu:0\", send_device_incarnation=1, tensor_name=\"edge_4_layer_conv1/weights\", _device=\"/job:localhost/replica:0/task:0/gpu:0\"](layer_conv1/weights)]]\n\t [[Node: layer_conv1/weights/_9 = _Recv[_start_time=0, client_terminated=false, recv_device=\"/job:localhost/replica:0/task:0/cpu:0\", send_device=\"/job:localhost/replica:0/task:0/gpu:0\", send_device_incarnation=1, tensor_name=\"edge_4_layer_conv1/weights\", tensor_type=DT_FLOAT, _device=\"/job:localhost/replica:0/task:0/cpu:0\"]()]]"
     ]
    }
   ],
   "source": [
    "plot_conv_weights(weights=weights_conv1)"
   ]
  },
  {
   "cell_type": "code",
   "execution_count": null,
   "metadata": {
    "collapsed": true
   },
   "outputs": [],
   "source": []
  }
 ],
 "metadata": {
  "kernelspec": {
   "display_name": "Python 2",
   "language": "python",
   "name": "python2"
  },
  "language_info": {
   "codemirror_mode": {
    "name": "ipython",
    "version": 2
   },
   "file_extension": ".py",
   "mimetype": "text/x-python",
   "name": "python",
   "nbconvert_exporter": "python",
   "pygments_lexer": "ipython2",
   "version": "2.7.6"
  }
 },
 "nbformat": 4,
 "nbformat_minor": 2
}
