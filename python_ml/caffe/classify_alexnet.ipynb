{
 "cells": [
  {
   "cell_type": "code",
   "execution_count": 2,
   "metadata": {},
   "outputs": [
    {
     "name": "stdout",
     "output_type": "stream",
     "text": [
      "predicted calss is 671\n",
      "probilities and lables:\n",
      "[(0.97232437, 'n03792782 mountain bike, all-terrain bike, off-roader'), (0.016351981, 'n03208938 disk brake, disc brake'), (0.0075037084, 'n04482393 tricycle, trike, velocipede'), (0.0022156565, 'n02835271 bicycle-built-for-two, tandem bicycle, tandem'), (0.0013626202, 'n03785016 moped')]\n",
      "another way to get the top5 high probilities\n",
      "671 # n03792782 mountain bike, all-terrain bike, off-roader\n",
      "535 # n03208938 disk brake, disc brake\n",
      "870 # n04482393 tricycle, trike, velocipede\n",
      "444 # n02835271 bicycle-built-for-two, tandem bicycle, tandem\n",
      "665 # n03785016 moped\n"
     ]
    }
   ],
   "source": [
    "import numpy as np\n",
    "\n",
    "import sys,os\n",
    "\n",
    "#set current python directory, make sure you are using python 2.7 for caffe. \n",
    "caffe_root = '/local/mnt/workspace/caffe/' \n",
    "sys.path.insert(0, caffe_root + 'python')\n",
    "import caffe\n",
    "os.chdir(caffe_root)\n",
    "\n",
    "caffe.set_mode_gpu()\n",
    "#set the net, model and mean file\n",
    "net_file=caffe_root + 'models/bvlc_reference_caffenet/deploy.prototxt'\n",
    "caffe_model=caffe_root + 'models/bvlc_reference_caffenet/bvlc_reference_caffenet.caffemodel'\n",
    "mean_file=caffe_root + 'python/caffe/imagenet/ilsvrc_2012_mean.npy'\n",
    "net = caffe.Net(net_file,caffe_model,caffe.TEST)\n",
    "\n",
    "\"\"\"\n",
    "The “set_transpose” function here will transform an image from (256,256,3) to (3,256,256). \n",
    "The “set_channel_swap” function will change the channel ordering. Caffe uses BGR image format, \n",
    "so we need to change the image from RGB to BGR. If you are using OpenCV to load the image, \n",
    "then this step is not necessary since OpenCV also uses the BGR format. \n",
    "The “set_raw_scale” function normalizes the values in the image based on the 0-255 range.\n",
    "\"\"\"\n",
    "\n",
    "transformer = caffe.io.Transformer({'data': net.blobs['data'].data.shape})\n",
    "#put channel 1 to the front\n",
    "transformer.set_transpose('data', (2,0,1))\n",
    "transformer.set_mean('data', np.load(mean_file).mean(1).mean(1))\n",
    "#scale the image to 255\n",
    "transformer.set_raw_scale('data', 255) \n",
    "#RGB->BGR\n",
    "transformer.set_channel_swap('data', (2,1,0))\n",
    "\n",
    "#load the test image and use pre-configured transformer to convert the test image as caffe input\n",
    "im=caffe.io.load_image(caffe_root+'examples/images/bike.jpg')\n",
    "net.blobs['data'].data[...] = transformer.preprocess('data',im)\n",
    "#forward broadcasting\n",
    "out = net.forward()\n",
    "#get the result\n",
    "out_prob = out['prob'][0]\n",
    "print 'predicted calss is',out_prob.argmax()\n",
    "\n",
    "#load the label files\n",
    "imagenet_labels_filename = caffe_root + 'data/ilsvrc12/synset_words.txt'\n",
    "labels = np.loadtxt(imagenet_labels_filename, str, delimiter='\\t')\n",
    "\n",
    "#get the top5 and use zip to print the top 5 probablities \n",
    "top5 = out_prob.flatten().argsort()[::-1][:5]\n",
    "print \"probilities and lables:\"\n",
    "res = zip(out_prob[top5],labels[top5])\n",
    "print res\n",
    "\n",
    "print \"another way to get the top5 high probilities\"\n",
    "top_5 = net.blobs['prob'].data[0].flatten().argsort()[-1:-6:-1]\n",
    "for i in np.arange(top_5.size):\n",
    "    print (top_5[i]),\"#\",(labels[top_5[i]])\n",
    "\n",
    "\n"
   ]
  },
  {
   "cell_type": "code",
   "execution_count": null,
   "metadata": {
    "collapsed": true
   },
   "outputs": [],
   "source": []
  },
  {
   "cell_type": "code",
   "execution_count": null,
   "metadata": {
    "collapsed": true
   },
   "outputs": [],
   "source": []
  }
 ],
 "metadata": {
  "kernelspec": {
   "display_name": "Python 2",
   "language": "python",
   "name": "python2"
  },
  "language_info": {
   "codemirror_mode": {
    "name": "ipython",
    "version": 2
   },
   "file_extension": ".py",
   "mimetype": "text/x-python",
   "name": "python",
   "nbconvert_exporter": "python",
   "pygments_lexer": "ipython2",
   "version": "2.7.6"
  }
 },
 "nbformat": 4,
 "nbformat_minor": 2
}
