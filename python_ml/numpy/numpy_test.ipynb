{
 "cells": [
  {
   "cell_type": "code",
   "execution_count": 1,
   "metadata": {},
   "outputs": [
    {
     "data": {
      "image/png": "[encoded data removed]",
      "text/plain": [
       "<matplotlib.figure.Figure at 0x7f76971b2dd0>"
      ]
     },
     "metadata": {},
     "output_type": "display_data"
    }
   ],
   "source": [
    "import numpy as np\n",
    "import matplotlib.pyplot as plt\n",
    "\n",
    "a = np.linspace(-10, 10, 1000)\n",
    "b = 1.0 / (1.0  + np.exp(-a))\n",
    "c = b * (1 - b)\n",
    "\n",
    "plt.subplot(2, 1, 1)\n",
    "plt.title('f(x) = 1 / ( 1 + exp(-x) )')\n",
    "plt.plot(a, b)\n",
    "\n",
    "plt.subplot(2, 1, 2)\n",
    "plt.title('f\\'(x) = f(x) * ( 1 - f(x) )')\n",
    "plt.plot(a, c)\n",
    "\n",
    "plt.show()"
   ]
  },
  {
   "cell_type": "code",
   "execution_count": 3,
   "metadata": {},
   "outputs": [
    {
     "name": "stdout",
     "output_type": "stream",
     "text": [
      "21\n"
     ]
    }
   ],
   "source": [
    "def f(n):\n",
    "    a, b = 0, 1\n",
    "    for i in range(0,n):\n",
    "        a,b = b, a+b\n",
    "    return a\n",
    "print f(8)"
   ]
  },
  {
   "cell_type": "code",
   "execution_count": 12,
   "metadata": {},
   "outputs": [],
   "source": [
    "class Solution(object):\n",
    "    def addBoldTag(self, s, dict):\n",
    "        \"\"\"\n",
    "        :type s: str\n",
    "        :type dict: List[str]\n",
    "        :rtype: str\n",
    "        \"\"\"\n",
    "        start = end = -1\n",
    "        res = ''\n",
    "        for x, c in enumerate(s):\n",
    "            nend = 0\n",
    "            for d in dict:\n",
    "                if s[x:].startswith(d):\n",
    "                    nend = max(nend, len(d))\n",
    "                if nend:\n",
    "                    if start ==  -1:\n",
    "                         start = x\n",
    "                    end = max(end, nend + x)\n",
    "                    continue\n",
    "                if x >= end:\n",
    "                    res += '</b>' +s[start:end] + '</b>'\n",
    "                    start = end = -1\n",
    "                    print res\n",
    "                if start == -1:\n",
    "                    res += c\n",
    "                    print '*' + res\n",
    "        if start > -1:\n",
    "                res += '</b>' + s[start:end] + '</b>'\n",
    "        return res\n"
   ]
  },
  {
   "cell_type": "code",
   "execution_count": 13,
   "metadata": {},
   "outputs": [
    {
     "name": "stdout",
     "output_type": "stream",
     "text": [
      "</b>aaab</b>\n",
      "*</b>aaab</b>b\n",
      "</b>aaab</b>b</b></b>\n",
      "*</b>aaab</b>b</b></b>b\n",
      "</b>aaab</b>b</b></b>b</b>bc</b>\n",
      "*</b>aaab</b>b</b></b>b</b>bc</b>c\n",
      "</b>aaab</b>b</b></b>b</b>bc</b>c</b></b>\n",
      "*</b>aaab</b>b</b></b>b</b>bc</b>c</b></b>c\n",
      "</b>aaab</b>b</b></b>b</b>bc</b>c</b></b>c</b></b>\n",
      "*</b>aaab</b>b</b></b>b</b>bc</b>c</b></b>c</b></b>c\n"
     ]
    },
    {
     "data": {
      "text/plain": [
       "'</b>aaab</b>b</b></b>b</b>bc</b>c</b></b>c</b></b>c'"
      ]
     },
     "execution_count": 13,
     "metadata": {},
     "output_type": "execute_result"
    }
   ],
   "source": [
    "s = \"aaabbcc\"\n",
    "dict = [\"aaa\",\"aab\",\"bc\"]\n",
    "Solution().addBoldTag(s,dict)"
   ]
  },
  {
   "cell_type": "code",
   "execution_count": null,
   "metadata": {
    "collapsed": true
   },
   "outputs": [],
   "source": []
  }
 ],
 "metadata": {
  "kernelspec": {
   "display_name": "Python 2",
   "language": "python",
   "name": "python2"
  },
  "language_info": {
   "codemirror_mode": {
    "name": "ipython",
    "version": 2
   },
   "file_extension": ".py",
   "mimetype": "text/x-python",
   "name": "python",
   "nbconvert_exporter": "python",
   "pygments_lexer": "ipython2",
   "version": "2.7.6"
  }
 },
 "nbformat": 4,
 "nbformat_minor": 2
}
