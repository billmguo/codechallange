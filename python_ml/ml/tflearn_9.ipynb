{
 "cells": [
  {
   "cell_type": "code",
   "execution_count": 22,
   "metadata": {},
   "outputs": [
    {
     "name": "stdout",
     "output_type": "stream",
     "text": [
      "[[ 1.  1.  1.]\n",
      " [ 1.  1.  1.]\n",
      " [ 1.  1.  1.]]\n",
      "====================\n",
      "[[[[ 1.]\n",
      "   [ 1.]\n",
      "   [ 1.]]\n",
      "\n",
      "  [[ 1.]\n",
      "   [ 1.]\n",
      "   [ 1.]]\n",
      "\n",
      "  [[ 1.]\n",
      "   [ 1.]\n",
      "   [ 1.]]]]\n",
      "[[ 1.  1.]\n",
      " [ 1.  1.]]\n",
      "====================\n",
      "[[[[ 4.]\n",
      "   [ 4.]\n",
      "   [ 2.]]\n",
      "\n",
      "  [[ 4.]\n",
      "   [ 4.]\n",
      "   [ 2.]]\n",
      "\n",
      "  [[ 2.]\n",
      "   [ 2.]\n",
      "   [ 1.]]]]\n",
      "2=2=2=2=2=2=2=2=2=2=2=2=2=2=2=2=2=2=2=2=\n",
      "[[[[ 4.]\n",
      "   [ 4.]\n",
      "   [ 2.]]\n",
      "\n",
      "  [[ 4.]\n",
      "   [ 4.]\n",
      "   [ 2.]]\n",
      "\n",
      "  [[ 2.]\n",
      "   [ 2.]\n",
      "   [ 1.]]]]\n",
      "====================\n",
      "[[[[ 4.]\n",
      "   [ 2.]]\n",
      "\n",
      "  [[ 2.]\n",
      "   [ 1.]]]]\n"
     ]
    }
   ],
   "source": [
    "import tensorflow as tf\n",
    "import numpy as np\n",
    "import matplotlib.pyplot as plt\n",
    "sess = tf.Session()\n",
    "\n",
    "x= np.ones((3,3))\n",
    "x_data = x.astype('float32')\n",
    "print x_data\n",
    "print \"=\"*20\n",
    "x_data = np.reshape(x_data, [1, 3, 3, 1])\n",
    "\n",
    "print x_data\n",
    "\n",
    "w = np.ones([2,2])\n",
    "print w\n",
    "print \"=\"*20\n",
    "w = tf.cast(tf.reshape(w, [2, 2, 1, 1]), \"float\")\n",
    "# print w.eval()\n",
    "\n",
    "print tf.nn.conv2d(x_data, w, [1, 1, 1, 1], 'SAME').eval(session=sess)\n",
    "print \"2=\"*20\n",
    "\n",
    "l1 = tf.nn.relu(tf.nn.conv2d(x_data, w, [1, 1, 1, 1], 'SAME'))\n",
    "print l1.eval(session=sess)\n",
    "print \"=\"*20\n",
    "\n",
    "l2 = tf.nn.max_pool(l1, ksize=[1, 2, 2, 1], strides=[1, 2, 2, 1], padding='SAME', name='l1_pool')\n",
    "print l2.eval(session=sess)"
   ]
  },
  {
   "cell_type": "code",
   "execution_count": 21,
   "metadata": {},
   "outputs": [
    {
     "name": "stdout",
     "output_type": "stream",
     "text": [
      "1554.0\n",
      "1554.0\n"
     ]
    }
   ],
   "source": [
    "t = tf.constant(42.0)\n",
    "u = tf.constant(37.0)\n",
    "tu = tf.multiply(t, u)\n",
    "ut = tf.multiply(u, t)\n",
    "with sess.as_default():\n",
    "   tu.eval()  # runs one step\n",
    "   ut.eval()  # runs one step\n",
    "   print tu.eval()\n",
    "   print ut.eval()\n",
    "   sess.run([tu, ut])  # evaluates both tensors in a single step"
   ]
  },
  {
   "cell_type": "code",
   "execution_count": null,
   "metadata": {
    "collapsed": true
   },
   "outputs": [],
   "source": []
  }
 ],
 "metadata": {
  "kernelspec": {
   "display_name": "Python 2",
   "language": "python",
   "name": "python2"
  },
  "language_info": {
   "codemirror_mode": {
    "name": "ipython",
    "version": 2
   },
   "file_extension": ".py",
   "mimetype": "text/x-python",
   "name": "python",
   "nbconvert_exporter": "python",
   "pygments_lexer": "ipython2",
   "version": "2.7.6"
  }
 },
 "nbformat": 4,
 "nbformat_minor": 2
}
