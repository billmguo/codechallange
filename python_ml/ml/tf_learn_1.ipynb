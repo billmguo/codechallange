{
 "cells": [
  {
   "cell_type": "code",
   "execution_count": 7,
   "metadata": {},
   "outputs": [
    {
     "name": "stdout",
     "output_type": "stream",
     "text": [
      "[<tf.Tensor 'Neg_4:0' shape=() dtype=float32>, <tf.Tensor 'Sum_8:0' shape=() dtype=float32>, <tf.Tensor 'Sum_9:0' shape=() dtype=float32>]\n",
      "[<tf.Operation 'GradientDescent_3' type=NoOp>, <tf.Operation 'GradientDescent_4' type=NoOp>, <tf.Operation 'GradientDescent_5' type=NoOp>]\n"
     ]
    }
   ],
   "source": [
    "import tensorflow as tf\n",
    "import numpy as np\n",
    "import matplotlib.pyplot as plt\n",
    "#sess = tf.InteractiveSession()\n",
    "\n",
    "x = tf.placeholder(\"float\", [None, 784]) # 28 x 28\n",
    "y = tf.placeholder(\"float\", [None, 10])\n",
    "\n",
    "w = tf.Variable(tf.zeros([784, 10]))\n",
    "b = tf.Variable(tf.zeros([10]))\n",
    "\n",
    "y_ = tf.matmul(x, w) + b\n",
    "\n",
    "# cross entropy\n",
    "cost1 = -tf.reduce_sum(y * tf.log(tf.nn.softmax(y_)))\n",
    "\n",
    "# softmax cross entropy\n",
    "# Measures the probability error in discrete classification tasks\n",
    "# in which the classes are mutually exclusive (each entry is in exactly one class).\n",
    "# For example, each CIFAR-10 image is labeled with one and only one label:\n",
    "# an image can be a dog or a truck, but not both.\n",
    "cost2 = tf.reduce_sum(tf.nn.softmax_cross_entropy_with_logits(logits=y_, labels=y))\n",
    "# Measures the probability error in discrete classification tasks\n",
    "# in which each class is independent and not mutually exclusive.\n",
    "# For instance, one could perform multilabel classification\n",
    "# where a picture can contain both an elephant and a dog at the same time.\n",
    "\n",
    "# `x = logits`, `z = targets`\n",
    "# cost = x - x * z + log(1 + exp(-x))\n",
    "# actual_cost = max(x, 0) - x * z + log(1 + exp(-abs(x))) : ensure stability and avoid overflow\n",
    "cost3 = tf.reduce_sum(tf.nn.sigmoid_cross_entropy_with_logits(logits=y_, labels=y))\n",
    "\n",
    "costs = []\n",
    "costs.append(cost1)\n",
    "costs.append(cost2)\n",
    "costs.append(cost3)\n",
    "\n",
    "optimizers = []\n",
    "optimizers.append(tf.train.GradientDescentOptimizer(0.01).minimize(cost1))\n",
    "optimizers.append(tf.train.GradientDescentOptimizer(0.01).minimize(cost2))\n",
    "optimizers.append(tf.train.GradientDescentOptimizer(0.01).minimize(cost3))\n",
    "print costs\n",
    "print optimizers"
   ]
  },
  {
   "cell_type": "code",
   "execution_count": null,
   "metadata": {},
   "outputs": [],
   "source": [
    "import tensorflow as tf\n",
    "import numpy as np\n",
    "import matplotlib.pyplot as plt\n",
    "sess = tf.InteractiveSession()\n",
    "x = tf.placeholder(\"float\", [None, 784])\n",
    "y = tf.placeholder(\"float\", [None, 10])\n",
    "\n",
    "w_h = tf.Variable(tf.random_normal([784, 625], stddev=0.01))\n",
    "w_o = tf.Variable(tf.random_normal([625, 10], stddev=0.01))\n",
    "\n",
    "out_h = tf.nn.sigmoid(tf.matmul(x, w_h))\n",
    "y_ = tf.matmul(out_h, w_o)\n",
    "\n",
    "cost = tf.reduce_mean(tf.nn.softmax_cross_entropy_with_logits(logits=y_,labels=y))\n",
    "train = tf.train.GradientDescentOptimizer(0.05).minimize(cost)\n",
    "\n",
    "pred_op = tf.argmax(y_, 1)"
   ]
  },
  {
   "cell_type": "code",
   "execution_count": 11,
   "metadata": {},
   "outputs": [
    {
     "name": "stdout",
     "output_type": "stream",
     "text": [
      "WARNING:tensorflow:From /usr/local/lib/python2.7/dist-packages/tensorflow/python/util/tf_should_use.py:170: initialize_all_variables (from tensorflow.python.ops.variables) is deprecated and will be removed after 2017-03-02.\n",
      "Instructions for updating:\n",
      "Use `tf.global_variables_initializer` instead.\n"
     ]
    },
    {
     "ename": "NameError",
     "evalue": "name 'sess' is not defined",
     "output_type": "error",
     "traceback": [
      "\u001b[0;31m---------------------------------------------------------------------------\u001b[0m",
      "\u001b[0;31mNameError\u001b[0m                                 Traceback (most recent call last)",
      "\u001b[0;32m<ipython-input-11-4c36fb9f58f1>\u001b[0m in \u001b[0;36m<module>\u001b[0;34m()\u001b[0m\n\u001b[1;32m      3\u001b[0m \u001b[0;34m\u001b[0m\u001b[0m\n\u001b[1;32m      4\u001b[0m \u001b[0minit\u001b[0m \u001b[0;34m=\u001b[0m \u001b[0mtf\u001b[0m\u001b[0;34m.\u001b[0m\u001b[0minitialize_all_variables\u001b[0m\u001b[0;34m(\u001b[0m\u001b[0;34m)\u001b[0m\u001b[0;34m\u001b[0m\u001b[0m\n\u001b[0;32m----> 5\u001b[0;31m \u001b[0msess\u001b[0m\u001b[0;34m.\u001b[0m\u001b[0mrun\u001b[0m\u001b[0;34m(\u001b[0m\u001b[0minit\u001b[0m\u001b[0;34m)\u001b[0m\u001b[0;34m\u001b[0m\u001b[0m\n\u001b[0m\u001b[1;32m      6\u001b[0m \u001b[0;34m\u001b[0m\u001b[0m\n\u001b[1;32m      7\u001b[0m \u001b[0;32mfor\u001b[0m \u001b[0mepoch\u001b[0m \u001b[0;32min\u001b[0m \u001b[0mrange\u001b[0m\u001b[0;34m(\u001b[0m\u001b[0;36m10\u001b[0m\u001b[0;34m)\u001b[0m\u001b[0;34m:\u001b[0m\u001b[0;34m\u001b[0m\u001b[0m\n",
      "\u001b[0;31mNameError\u001b[0m: name 'sess' is not defined"
     ]
    }
   ],
   "source": [
    "training_epochs = 10\n",
    "batch_size = 100\n",
    "\n",
    "init = tf.global_variables_initializer ()\n",
    "sess.run(init)\n",
    "\n",
    "for epoch in range(10):\n",
    "    total_batch = int(mnist.train.num_examples/batch_size)\n",
    "    avg_loss = 0.\n",
    "\n",
    "    for batch in range(total_batch): \n",
    "        batch_xs, batch_ys = mnist.train.next_batch(batch_size)\n",
    "        sess.run(train, feed_dict={x: batch_xs, y: batch_ys})\n",
    "        \n",
    "        avg_loss += cost.eval({x: batch_xs, y: batch_ys})/total_batch\n",
    "        \n",
    "    if epoch % 3 == 0:\n",
    "        print \"Epoch:\", '%04d' % (epoch+1), \"cost=\", \"{:.9f}\".format(avg_loss)\n",
    "\n",
    "correct_prediction = tf.equal(tf.argmax(y_, 1), tf.argmax(y, 1))\n",
    "accuracy = tf.reduce_mean(tf.cast(correct_prediction, \"float\"))\n",
    "\n",
    "print accuracy.eval({x: mnist.test.images, y: mnist.test.labels})"
   ]
  },
  {
   "cell_type": "code",
   "execution_count": null,
   "metadata": {
    "collapsed": true
   },
   "outputs": [],
   "source": []
  }
 ],
 "metadata": {
  "kernelspec": {
   "display_name": "Python 2",
   "language": "python",
   "name": "python2"
  },
  "language_info": {
   "codemirror_mode": {
    "name": "ipython",
    "version": 2
   },
   "file_extension": ".py",
   "mimetype": "text/x-python",
   "name": "python",
   "nbconvert_exporter": "python",
   "pygments_lexer": "ipython2",
   "version": "2.7.6"
  }
 },
 "nbformat": 4,
 "nbformat_minor": 2
}
