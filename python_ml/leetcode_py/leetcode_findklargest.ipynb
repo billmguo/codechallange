{
 "cells": [
  {
   "cell_type": "code",
   "execution_count": 7,
   "metadata": {},
   "outputs": [
    {
     "name": "stdout",
     "output_type": "stream",
     "text": [
      "[4, 5, 6]\n"
     ]
    }
   ],
   "source": [
    "class Solution(object):\n",
    "    def intersect(self, nums1, nums2):\n",
    "        \"\"\"\n",
    "        :type nums1: List[int]\n",
    "        :type nums2: List[int]\n",
    "        :rtype: List[int]\n",
    "        \"\"\"\n",
    "        nums1.sort(), nums2.sort()  # Make sure it is sorted, doesn't count in time.\n",
    "        res = []\n",
    "        it1, it2 = 0, 0\n",
    "        while it1 < len(nums1) and it2 < len(nums2):\n",
    "            if nums1[it1] < nums2[it2]:\n",
    "                it1 += 1\n",
    "            elif nums1[it1] > nums2[it2]:\n",
    "                it2 += 1\n",
    "            else:\n",
    "                res.append(nums1[it1])\n",
    "                it1 += 1\n",
    "                it2 += 1\n",
    "        \n",
    "        return res\n",
    "    \n",
    "if __name__ == \"__main__\":\n",
    "    nums1 = [5,3, 2, 1, 4, 6]\n",
    "    nums2 = [4, 6, 5, 8, 9]\n",
    "    res = Solution().intersect(nums1,nums2)\n",
    "    print res"
   ]
  },
  {
   "cell_type": "code",
   "execution_count": 9,
   "metadata": {},
   "outputs": [
    {
     "name": "stdout",
     "output_type": "stream",
     "text": [
      "8\n"
     ]
    }
   ],
   "source": [
    "from random import randint\n",
    "\n",
    "class Solution:\n",
    "    # @param {integer[]} nums\n",
    "    # @param {integer} k\n",
    "    # @return {integer}\n",
    "    def findKthLargest(self, nums, k):\n",
    "        left, right = 0, len(nums) - 1\n",
    "        while left <= right:\n",
    "            pivot_idx = randint(left, right)\n",
    "            new_pivot_idx = self.PartitionAroundPivot(left, right, pivot_idx, nums)\n",
    "            if new_pivot_idx == k - 1:\n",
    "                return nums[new_pivot_idx]\n",
    "            elif new_pivot_idx > k - 1:\n",
    "                right = new_pivot_idx - 1\n",
    "            else:  # new_pivot_idx < k - 1.\n",
    "                left = new_pivot_idx + 1\n",
    "        \n",
    "    def PartitionAroundPivot(self, left, right, pivot_idx, nums):\n",
    "        pivot_value = nums[pivot_idx]\n",
    "        new_pivot_idx = left\n",
    "        nums[pivot_idx], nums[right] = nums[right], nums[pivot_idx]\n",
    "        for i in xrange(left, right):\n",
    "            if nums[i]  > pivot_value:\n",
    "                nums[i],nums[new_pivot_idx] = nums[new_pivot_idx],nums[i]\n",
    "                new_pivot_idx += 1\n",
    "        nums[right],nums[new_pivot_idx] = nums[new_pivot_idx], nums[right]\n",
    "        return new_pivot_idx\n",
    "if __name__ == \"__main__\":\n",
    "    nums = [2, 17, 8, 7,9, 20, 18]\n",
    "    res = Solution().findKthLargest(nums, 5)\n",
    "    print res"
   ]
  },
  {
   "cell_type": "code",
   "execution_count": null,
   "metadata": {
    "collapsed": true
   },
   "outputs": [],
   "source": []
  }
 ],
 "metadata": {
  "kernelspec": {
   "display_name": "Python 2",
   "language": "python",
   "name": "python2"
  },
  "language_info": {
   "codemirror_mode": {
    "name": "ipython",
    "version": 2
   },
   "file_extension": ".py",
   "mimetype": "text/x-python",
   "name": "python",
   "nbconvert_exporter": "python",
   "pygments_lexer": "ipython2",
   "version": "2.7.6"
  }
 },
 "nbformat": 4,
 "nbformat_minor": 2
}
